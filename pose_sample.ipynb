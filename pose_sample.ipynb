{
 "cells": [
  {
   "cell_type": "markdown",
   "id": "90a3f21a",
   "metadata": {},
   "source": [
    "stolen from https://github.com/GSNCodes/ArUCo-Markers-Pose-Estimation-Generation-Python/blob/main/pose_estimation.py\n",
    "\n",
    "and https://stackoverflow.com/questions/55816902/finding-the-intersection-of-two-circles"
   ]
  },
  {
   "cell_type": "markdown",
   "id": "dcae28cb",
   "metadata": {},
   "source": [
    "4corners0\n",
    "width\n",
    "0.1571640692466518\n",
    "0.15769984424676786\n",
    "length\n",
    "0.1822147497672536\n",
    "0.1818431585400156\n",
    "\n",
    "4corners1\n",
    "width \n",
    "0.15173707172872597\n",
    "0.15800170256710422\n",
    "length\n",
    "0.18222924825472253\n",
    "0.1620446584729262"
   ]
  },
  {
   "cell_type": "code",
   "execution_count": 1,
   "id": "e5e421e4",
   "metadata": {},
   "outputs": [],
   "source": [
    "import cv2\n",
    "import numpy as np\n",
    "import pathlib\n",
    "import os\n",
    "import cv2.aruco as aruco\n",
    "import argparse\n",
    "import sys\n",
    "import imutils\n",
    "import math"
   ]
  },
  {
   "cell_type": "code",
   "execution_count": 2,
   "id": "d0faf5ce",
   "metadata": {},
   "outputs": [],
   "source": [
    "def save_coefficients(mtx, dist, path):\n",
    "    '''Save the camera matrix and the distortion coefficients to given path/file.'''\n",
    "    cv_file = cv2.FileStorage(path, cv2.FILE_STORAGE_WRITE)\n",
    "    cv_file.write('K', mtx)\n",
    "    cv_file.write('D', dist)\n",
    "    # note you *release* you don't close() a FileStorage object\n",
    "    cv_file.release()\n",
    "\n",
    "def load_coefficients(path):\n",
    "    '''Loads camera matrix and distortion coefficients.'''\n",
    "    # FILE_STORAGE_READ\n",
    "    cv_file = cv2.FileStorage(path, cv2.FILE_STORAGE_READ)\n",
    "\n",
    "    # note we also have to specify the type to retrieve other wise we only get a\n",
    "    # FileNode object back instead of a matrix\n",
    "    camera_matrix = cv_file.getNode('K').mat()\n",
    "    dist_matrix = cv_file.getNode('D').mat()\n",
    "\n",
    "    cv_file.release()\n",
    "    return [camera_matrix, dist_matrix]\n",
    "def find_center(markerCorner):\n",
    "    (topLeft, topRight, bottomRight, bottomLeft) = markerCorner[0]\n",
    "\n",
    "    # convert each of the (x, y)-coordinate pairs to integers\n",
    "    topRight = (int(topRight[0]), int(topRight[1]))\n",
    "    bottomRight = (int(bottomRight[0]), int(bottomRight[1]))\n",
    "    bottomLeft = (int(bottomLeft[0]), int(bottomLeft[1]))\n",
    "    topLeft = (int(topLeft[0]), int(topLeft[1]))\n",
    "\n",
    "    # find center marker\n",
    "    cX = int((topLeft[0] + bottomRight[0]) / 2.0)\n",
    "    cY = int((topLeft[1] + bottomRight[1]) / 2.0)\n",
    "    return cX, cY\n",
    "\n",
    "def find_distance(a, b):\n",
    "    return math.sqrt((a[0]-b[0])**2 + (a[1]-b[1])**2)\n",
    "\n",
    "def get_intersections(x0, y0, r0, x1, y1, r1):\n",
    "    # circle 1: (x0, y0), radius r0\n",
    "    # circle 2: (x1, y1), radius r1\n",
    "\n",
    "    d=math.sqrt((x1-x0)**2 + (y1-y0)**2)\n",
    "    \n",
    "    # non intersecting\n",
    "    if d > r0 + r1 :\n",
    "        return None\n",
    "    # One circle within other\n",
    "    if d < abs(r0-r1):\n",
    "        return None\n",
    "    # coincident circles\n",
    "    if d == 0 and r0 == r1:\n",
    "        return None\n",
    "    else:\n",
    "        a=(r0**2-r1**2+d**2)/(2*d)\n",
    "        h=math.sqrt(r0**2-a**2)\n",
    "        x2=x0+a*(x1-x0)/d   \n",
    "        y2=y0+a*(y1-y0)/d   \n",
    "        x3=x2+h*(y1-y0)/d     \n",
    "        y3=y2-h*(x1-x0)/d \n",
    "\n",
    "        x4=x2-h*(y1-y0)/d\n",
    "        y4=y2+h*(x1-x0)/d\n",
    "        \n",
    "        return [x3, y3], [x4, y4]"
   ]
  },
  {
   "cell_type": "code",
   "execution_count": 3,
   "id": "db299765",
   "metadata": {},
   "outputs": [],
   "source": [
    "mtx, dist = load_coefficients('calibration_aruco.yml')"
   ]
  },
  {
   "cell_type": "code",
   "execution_count": 34,
   "id": "8d2259df",
   "metadata": {},
   "outputs": [],
   "source": [
    "def pose_estimation(frame, aruco_dict_type, matrix_coefficients, distortion_coefficients):\n",
    "\n",
    "    '''\n",
    "    frame - Frame from the video stream\n",
    "    matrix_coefficients - Intrinsic matrix of the calibrated camera\n",
    "    distortion_coefficients - Distortion coefficients associated with your camera\n",
    "    return:-\n",
    "    frame - The frame with the axis drawn on it\n",
    "    '''\n",
    "\n",
    "    gray = cv2.cvtColor(frame, cv2.COLOR_BGR2GRAY)\n",
    "    cv2.aruco_dict = cv2.aruco.Dictionary_get(aruco_dict_type)\n",
    "    parameters = cv2.aruco.DetectorParameters_create()\n",
    "\n",
    "\n",
    "    corners, ids, rejected_img_points = cv2.aruco.detectMarkers(gray, cv2.aruco_dict,parameters=parameters,\n",
    "        cameraMatrix=matrix_coefficients,\n",
    "        distCoeff=distortion_coefficients)\n",
    "    \n",
    "    rvecs = []\n",
    "    tvecs = []\n",
    "        # If markers are detected\n",
    "    if len(corners) > 0:\n",
    "        print(str(ids))\n",
    "        for i in range(0, len(ids)):\n",
    "            \n",
    "            \n",
    "            # Estimate pose of each marker and return the values rvec and tvec---(different from those of camera coefficients)\n",
    "            rvec, tvec, markerPoints = cv2.aruco.estimatePoseSingleMarkers(corners[i], 0.02, matrix_coefficients,\n",
    "                                                                       distortion_coefficients)\n",
    "            # Draw a square around the markers\n",
    "            cv2.aruco.drawDetectedMarkers(frame, corners) \n",
    "\n",
    "            # Draw Axis\n",
    "            cv2.aruco.drawAxis(frame, matrix_coefficients, distortion_coefficients, rvec, tvec, 0.01)\n",
    "            \n",
    "            # draw marker number\n",
    "            (topLeft, topRight, bottomRight, bottomLeft) = corners[i][0]\n",
    "            topLeft = (int(topLeft[0]), int(topLeft[1]))\n",
    "            cv2.putText(image, str(ids[i]),\n",
    "            (topLeft[0] - 15, topLeft[1]), cv2.FONT_HERSHEY_SIMPLEX,\n",
    "            0.5, (0, 255, 0), 2)\n",
    "            \n",
    "            entry = [ids[i][0], rvec[0][0]]\n",
    "            rvecs.append(entry)\n",
    "            entry = [ids[i][0], tvec[0][0]]\n",
    "            tvecs.append(entry)\n",
    "    length = -1\n",
    "    width = -1\n",
    "    if len(ids) == 5:\n",
    "        centers = {}\n",
    "        for i in range(len(ids)):\n",
    "            point = corners[i]\n",
    "            currID = ids[i]\n",
    "            x, y = find_center(point)\n",
    "            print('id ' + str(currID) + ' centered at ' + str(x) + ' ' + str(y))\n",
    "            centers[currID[0]] = (x, y)\n",
    "        \n",
    "        length = find_distance([centers[3][0], centers[3][1]], [centers[2][0], centers[2][1]])\n",
    "        width  = find_distance([centers[0][0], centers[0][1]], [centers[1][0], centers[1][1]])\n",
    "        \n",
    "    \n",
    "    return frame, rvecs, tvecs, zip(ids, corners), length, width"
   ]
  },
  {
   "cell_type": "code",
   "execution_count": 35,
   "id": "4b9ade7c",
   "metadata": {},
   "outputs": [
    {
     "name": "stdout",
     "output_type": "stream",
     "text": [
      "[[4]\n",
      " [0]]\n"
     ]
    },
    {
     "data": {
      "text/plain": [
       "102"
      ]
     },
     "execution_count": 35,
     "metadata": {},
     "output_type": "execute_result"
    }
   ],
   "source": [
    "image = cv2.imread(\"img1.png\")\n",
    "image = imutils.resize(image, width=600)\n",
    "arucoDict = cv2.aruco.DICT_4X4_50\n",
    "\n",
    "output, rvecs, tvecs, corners, length, width = pose_estimation(image, arucoDict, mtx, dist)\n",
    "cv2.imshow('rotate', output)\n",
    "cv2.waitKey(0)"
   ]
  },
  {
   "cell_type": "code",
   "execution_count": 36,
   "id": "dc0c10fb",
   "metadata": {},
   "outputs": [],
   "source": [
    "cv2.destroyAllWindows()"
   ]
  },
  {
   "cell_type": "code",
   "execution_count": 37,
   "id": "922bcc09",
   "metadata": {},
   "outputs": [
    {
     "data": {
      "text/plain": [
       "[[4, array([ 1.50501965,  1.45055049, -0.98228721])],\n",
       " [0, array([ 1.48138185, -1.48317256,  1.02059836])]]"
      ]
     },
     "execution_count": 37,
     "metadata": {},
     "output_type": "execute_result"
    }
   ],
   "source": [
    "rvecs"
   ]
  },
  {
   "cell_type": "code",
   "execution_count": 23,
   "id": "be4816ef",
   "metadata": {},
   "outputs": [
    {
     "data": {
      "text/plain": [
       "[array([-0.09680448, -0.06370044,  0.89519308]),\n",
       " array([ 0.05316002, -0.06649869,  0.91814865]),\n",
       " array([-0.09327158, -0.0076726 ,  0.72182671]),\n",
       " array([ 0.05837023, -0.01071023,  0.7660994 ]),\n",
       " array([-0.0512938 , -0.02901526,  0.80957514])]"
      ]
     },
     "execution_count": 23,
     "metadata": {},
     "output_type": "execute_result"
    }
   ],
   "source": [
    "tvecs\n",
    "tvec_list = [0]*5\n",
    "for index, tvec in tvecs:\n",
    "    tvec_list[index] = tvec\n",
    "tvec_list"
   ]
  },
  {
   "cell_type": "code",
   "execution_count": 24,
   "id": "620eeae2",
   "metadata": {},
   "outputs": [
    {
     "name": "stdout",
     "output_type": "stream",
     "text": [
      "0.10297920280067402\n",
      "0.15800170256710422\n"
     ]
    },
    {
     "data": {
      "text/plain": [
       "0.13049045268388912"
      ]
     },
     "execution_count": 24,
     "metadata": {},
     "output_type": "execute_result"
    }
   ],
   "source": [
    "#WIDTH using euclidian distance\n",
    "a = np.linalg.norm(tvecs[3][1] - tvecs[2][1])\n",
    "print(a)\n",
    "b = np.linalg.norm(tvecs[0][1] - tvecs[1][1])\n",
    "print(b)\n",
    "width = (a+b)/2\n",
    "width"
   ]
  },
  {
   "cell_type": "code",
   "execution_count": 25,
   "id": "28a539cf",
   "metadata": {},
   "outputs": [
    {
     "name": "stdout",
     "output_type": "stream",
     "text": [
      "0.09958629460845107\n",
      "0.20869195327157838\n"
     ]
    },
    {
     "data": {
      "text/plain": [
       "0.15413912394001472"
      ]
     },
     "execution_count": 25,
     "metadata": {},
     "output_type": "execute_result"
    }
   ],
   "source": [
    "#LENGTH using euclidian distance\n",
    "a = np.linalg.norm(tvecs[0][1] - tvecs[2][1])\n",
    "print(a)\n",
    "b = np.linalg.norm(tvecs[1][1] - tvecs[3][1])\n",
    "print(b)\n",
    "length = (a+b)/2\n",
    "length"
   ]
  },
  {
   "cell_type": "code",
   "execution_count": 26,
   "id": "dc1d2d13",
   "metadata": {},
   "outputs": [],
   "source": [
    "#for every corner, find the intersection\n",
    "corners =[(0, 0), (width, 0), (0, length), (width, length)]\n",
    "possible_points = []\n",
    "point_tvec = tvec_list[4]\n",
    "for i in range(4):\n",
    "    for j in range(i+1, 4):\n",
    "        x0, y0 = corners[i]\n",
    "        r0 = np.linalg.norm(point_tvec-tvec_list[i])\n",
    "        x1, y1 = corners[j]\n",
    "        r1 = np.linalg.norm(point_tvec-tvec_list[j])\n",
    "        returned = get_intersections(x0, y0, r0, x1, y1, r1)\n",
    "        if returned != None:\n",
    "            point1, point2 = returned\n",
    "            possible_points.append(point1)\n",
    "            possible_points.append(point2)"
   ]
  },
  {
   "cell_type": "code",
   "execution_count": 27,
   "id": "f8402ae9",
   "metadata": {},
   "outputs": [
    {
     "data": {
      "text/plain": [
       "[[0.013520761028131274, -0.10208773300785219],\n",
       " [0.013520761028131274, 0.10208773300785219],\n",
       " [0.06569920381242363, 0.07929899638630976],\n",
       " [-0.06569920381242363, 0.07929899638630976],\n",
       " [0.09480025007596544, 0.04021975627719243],\n",
       " [0.024023165474172006, 0.10013792353580583],\n",
       " [0.09956628844215418, 0.1521430578852541],\n",
       " [-0.014462957989956997, 0.05560865697663355],\n",
       " [0.2410186846505153, 0.10902900501727629],\n",
       " [0.019962220717262946, 0.10902900501727629],\n",
       " [0.04863871326795856, 0.06723857362254824],\n",
       " [0.04863871326795856, 0.24103967425748118]]"
      ]
     },
     "execution_count": 27,
     "metadata": {},
     "output_type": "execute_result"
    }
   ],
   "source": [
    "possible_points"
   ]
  },
  {
   "cell_type": "code",
   "execution_count": 13,
   "id": "2d232a6f",
   "metadata": {},
   "outputs": [],
   "source": [
    "block_width = width/2\n",
    "block_length = length/2\n",
    "\n",
    "possible_locations = []\n",
    "for x, y in possible_points:\n",
    "    if x < 0 or y < 0:\n",
    "        continue \n",
    "    x = math.floor(x/block_width)\n",
    "    y = math.floor(y/block_length)\n",
    "    if x > 1 or y > 1:\n",
    "        continue\n",
    "    possible_locations.append([x, y])"
   ]
  },
  {
   "cell_type": "code",
   "execution_count": 14,
   "id": "2ee0ab14",
   "metadata": {},
   "outputs": [
    {
     "data": {
      "text/plain": [
       "[[1, 0], [1, 0], [1, 0], [1, 0]]"
      ]
     },
     "execution_count": 14,
     "metadata": {},
     "output_type": "execute_result"
    }
   ],
   "source": [
    "possible_locations"
   ]
  },
  {
   "cell_type": "code",
   "execution_count": 31,
   "id": "c80c3968",
   "metadata": {},
   "outputs": [],
   "source": [
    "\"\"\"\n",
    "Cleans possible points computed with tvecs and returns estimated spot in row major order\n",
    "tldr; vote on most likely location after intersection of 2 circles\n",
    "INPUTS\n",
    "    width - 23, 10 average\n",
    "    length - 02, 13 average\n",
    "    box_size - an integer, box robot lives in will be size x size, should be square...\n",
    "    possible_points - possible points computed from intersection mess\n",
    "\n",
    "\"\"\"\n",
    "\n",
    "def clean_points_and_vote(width, length, box_size, possible_points):\n",
    "    block_width = width/box_size\n",
    "    block_legnth = length/box_size\n",
    "    possible_coords = [0]*box_size*box_size\n",
    "    max_votes = 0\n",
    "    max_vote_index = -1;\n",
    "    for x, y in possible_points:\n",
    "        if x < 0 or y < 0:\n",
    "            continue \n",
    "        x = math.floor(x/block_width)\n",
    "        y = math.floor(y/block_length)\n",
    "        if x > box_size-1 or y > box_size-1:\n",
    "            continue\n",
    "        print(str(x) + ' ' + str(y))\n",
    "        possible_coords[ y * box_size + x] += 1\n",
    "        if possible_coords[ y * box_size + x] > max_votes:\n",
    "            max_votes = possible_coords[ y * box_size + x]\n",
    "            max_vote_index =  y * box_size + x\n",
    "    return max_vote_index"
   ]
  },
  {
   "cell_type": "code",
   "execution_count": 32,
   "id": "873c886a",
   "metadata": {},
   "outputs": [
    {
     "name": "stdout",
     "output_type": "stream",
     "text": [
      "0 1\n",
      "1 0\n",
      "2 0\n",
      "0 1\n",
      "2 1\n",
      "0 1\n",
      "1 0\n",
      "1 2\n"
     ]
    }
   ],
   "source": [
    "\"\"\"\n",
    "for a 3x3 matrix in row major order\n",
    "\n",
    "0 1 2\n",
    "3 4 5\n",
    "6 7 8\n",
    "\n",
    "\"\"\"\n",
    "prediction = clean_points_and_vote(width, length, 3, possible_points)"
   ]
  },
  {
   "cell_type": "code",
   "execution_count": 30,
   "id": "0626b209",
   "metadata": {},
   "outputs": [
    {
     "data": {
      "text/plain": [
       "3"
      ]
     },
     "execution_count": 30,
     "metadata": {},
     "output_type": "execute_result"
    }
   ],
   "source": [
    "prediction"
   ]
  },
  {
   "cell_type": "code",
   "execution_count": null,
   "id": "477bdaf6",
   "metadata": {},
   "outputs": [],
   "source": []
  }
 ],
 "metadata": {
  "kernelspec": {
   "display_name": "Python 3",
   "language": "python",
   "name": "python3"
  },
  "language_info": {
   "codemirror_mode": {
    "name": "ipython",
    "version": 3
   },
   "file_extension": ".py",
   "mimetype": "text/x-python",
   "name": "python",
   "nbconvert_exporter": "python",
   "pygments_lexer": "ipython3",
   "version": "3.6.5"
  }
 },
 "nbformat": 4,
 "nbformat_minor": 5
}
