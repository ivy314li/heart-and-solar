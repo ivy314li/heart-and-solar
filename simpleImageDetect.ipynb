{
 "cells": [
  {
   "cell_type": "code",
   "execution_count": 3,
   "metadata": {},
   "outputs": [],
   "source": [
    "import cv2\n",
    "import cv2.aruco as aruco\n",
    "import argparse\n",
    "import sys\n",
    "import imutils"
   ]
  },
  {
   "cell_type": "markdown",
   "metadata": {},
   "source": [
    "This code is not my own. It was sourced from https://www.pyimagesearch.com/2020/12/21/detecting-aruco-markers-with-opencv-and-python/ and some slight modifications were made :)"
   ]
  },
  {
   "cell_type": "code",
   "execution_count": 4,
   "metadata": {},
   "outputs": [],
   "source": [
    "\n",
    "\n",
    "image = cv2.imread(\"id0.jpg\")\n",
    "image = imutils.resize(image, width=600)\n",
    "\n",
    "ARUCO_DICT = {\n",
    "    \"DICT_4X4_50\": cv2.aruco.DICT_4X4_50,\n",
    "    \"DICT_4X4_100\": cv2.aruco.DICT_4X4_100,\n",
    "    \"DICT_4X4_250\": cv2.aruco.DICT_4X4_250,\n",
    "    \"DICT_4X4_1000\": cv2.aruco.DICT_4X4_1000,\n",
    "    \"DICT_5X5_50\": cv2.aruco.DICT_5X5_50,\n",
    "    \"DICT_5X5_100\": cv2.aruco.DICT_5X5_100,\n",
    "    \"DICT_5X5_250\": cv2.aruco.DICT_5X5_250,\n",
    "    \"DICT_5X5_1000\": cv2.aruco.DICT_5X5_1000,\n",
    "    \"DICT_6X6_50\": cv2.aruco.DICT_6X6_50,\n",
    "    \"DICT_6X6_100\": cv2.aruco.DICT_6X6_100,\n",
    "    \"DICT_6X6_250\": cv2.aruco.DICT_6X6_250,\n",
    "    \"DICT_6X6_1000\": cv2.aruco.DICT_6X6_1000,\n",
    "    \"DICT_7X7_50\": cv2.aruco.DICT_7X7_50,\n",
    "    \"DICT_7X7_100\": cv2.aruco.DICT_7X7_100,\n",
    "    \"DICT_7X7_250\": cv2.aruco.DICT_7X7_250,\n",
    "    \"DICT_7X7_1000\": cv2.aruco.DICT_7X7_1000,\n",
    "    \"DICT_ARUCO_ORIGINAL\": cv2.aruco.DICT_ARUCO_ORIGINAL,\n",
    "    \"DICT_APRILTAG_16h5\": cv2.aruco.DICT_APRILTAG_16h5,\n",
    "    \"DICT_APRILTAG_25h9\": cv2.aruco.DICT_APRILTAG_25h9,\n",
    "    \"DICT_APRILTAG_36h10\": cv2.aruco.DICT_APRILTAG_36h10,\n",
    "    \"DICT_APRILTAG_36h11\": cv2.aruco.DICT_APRILTAG_36h11\n",
    "    }\n",
    "\n",
    "arucoDict = cv2.aruco.Dictionary_get(ARUCO_DICT[\"DICT_4X4_50\"])\n",
    "arucoParams = cv2.aruco.DetectorParameters_create()\n",
    "(corners, ids, rejected) = cv2.aruco.detectMarkers(image, arucoDict, parameters=arucoParams)\n"
   ]
  },
  {
   "cell_type": "code",
   "execution_count": 8,
   "metadata": {},
   "outputs": [
    {
     "name": "stdout",
     "output_type": "stream",
     "text": [
      "(array([[[228.,  67.],\n",
      "        [337.,  68.],\n",
      "        [335., 176.],\n",
      "        [232., 173.]]], dtype=float32),)\n"
     ]
    }
   ],
   "source": [
    "print(corners)"
   ]
  },
  {
   "cell_type": "code",
   "execution_count": null,
   "metadata": {},
   "outputs": [
    {
     "name": "stdout",
     "output_type": "stream",
     "text": [
      "[228.  67.]\n",
      "[[228.  67.]\n",
      " [337.  68.]\n",
      " [335. 176.]\n",
      " [232. 173.]]\n",
      "[INFO] ArUco marker ID: 0\n"
     ]
    }
   ],
   "source": [
    "# verify *at least* one ArUco marker was detected\n",
    "if len(corners) > 0:\n",
    "    # flatten the ArUco IDs list\n",
    "    ids = ids.flatten()\n",
    "    # loop over the detected ArUCo corners\n",
    "    for (markerCorner, markerID) in zip(corners, ids):\n",
    "        # extract the marker corners (which are always returned in\n",
    "        # top-left, top-right, bottom-right, and bottom-left order)\n",
    "        print(markerCorner)\n",
    "        print(corners)\n",
    "        #corners = markerCorner.reshape((4, 1))\n",
    "        (topLeft, topRight, bottomRight, bottomLeft) = corners\n",
    "        # convert each of the (x, y)-coordinate pairs to integers\n",
    "        topRight = (int(topRight[0]), int(topRight[1]))\n",
    "        bottomRight = (int(bottomRight[0]), int(bottomRight[1]))\n",
    "        bottomLeft = (int(bottomLeft[0]), int(bottomLeft[1]))\n",
    "        topLeft = (int(topLeft[0]), int(topLeft[1]))\n",
    "        \n",
    "        # draw the bounding box of the ArUCo detection\n",
    "        cv2.line(image, topLeft, topRight, (0, 255, 0), 2)\n",
    "        cv2.line(image, topRight, bottomRight, (0, 255, 0), 2)\n",
    "        cv2.line(image, bottomRight, bottomLeft, (0, 255, 0), 2)\n",
    "        cv2.line(image, bottomLeft, topLeft, (0, 255, 0), 2)\n",
    "        # compute and draw the center (x, y)-coordinates of the ArUco\n",
    "        # marker\n",
    "        cX = int((topLeft[0] + bottomRight[0]) / 2.0)\n",
    "        cY = int((topLeft[1] + bottomRight[1]) / 2.0)\n",
    "        cv2.circle(image, (cX, cY), 4, (0, 0, 255), -1)\n",
    "        # draw the ArUco marker ID on the image\n",
    "        cv2.putText(image, str(markerID),\n",
    "            (topLeft[0], topLeft[1] - 15), cv2.FONT_HERSHEY_SIMPLEX,\n",
    "            0.5, (0, 255, 0), 2)\n",
    "        print(\"[INFO] ArUco marker ID: {}\".format(markerID))\n",
    "        # show the output image\n",
    "        cv2.imshow(\"Image\", image)\n",
    "        cv2.waitKey(0)"
   ]
  },
  {
   "cell_type": "code",
   "execution_count": 7,
   "metadata": {},
   "outputs": [
    {
     "data": {
      "text/plain": [
       "()"
      ]
     },
     "execution_count": 7,
     "metadata": {},
     "output_type": "execute_result"
    }
   ],
   "source": []
  },
  {
   "cell_type": "code",
   "execution_count": null,
   "metadata": {},
   "outputs": [],
   "source": []
  }
 ],
 "metadata": {
  "kernelspec": {
   "display_name": "Python 3",
   "language": "python",
   "name": "python3"
  },
  "language_info": {
   "codemirror_mode": {
    "name": "ipython",
    "version": 3
   },
   "file_extension": ".py",
   "mimetype": "text/x-python",
   "name": "python",
   "nbconvert_exporter": "python",
   "pygments_lexer": "ipython3",
   "version": "3.6.5"
  }
 },
 "nbformat": 4,
 "nbformat_minor": 2
}
