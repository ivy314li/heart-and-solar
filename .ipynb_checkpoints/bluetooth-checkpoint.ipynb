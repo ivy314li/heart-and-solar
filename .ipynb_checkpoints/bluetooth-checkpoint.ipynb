{
 "cells": [
  {
   "cell_type": "code",
   "execution_count": 1,
   "id": "375be216",
   "metadata": {},
   "outputs": [],
   "source": [
    "import asyncio\n",
    "from bleak import BleakScanner\n",
    "from bleak import BleakClient"
   ]
  },
  {
   "cell_type": "code",
   "execution_count": null,
   "id": "90743962",
   "metadata": {},
   "outputs": [],
   "source": [
    "\n",
    "\n",
    "address = \"c0:98:e5:49:00:00\"\n",
    "MODEL_NBR_UUID = \"18AA71D6-9FE0-4B8E-B338-E131B3354CDF\"\n",
    "\n",
    "async def main(address):\n",
    "    async with BleakClient(address) as client:\n",
    "        model_number = await client.read_gatt_char(MODEL_NBR_UUID)\n",
    "        print(\"Model Number: {0}\".format(\"\".join(map(chr, model_number))))\n",
    "\n",
    "await main(address)"
   ]
  },
  {
   "cell_type": "code",
   "execution_count": 31,
   "id": "f93f6865",
   "metadata": {},
   "outputs": [
    {
     "name": "stdout",
     "output_type": "stream",
     "text": [
      "C5DE15D6-5661-4EA9-BA19-29DDED16EB4E: Unknown\n",
      "47711EA2-F98F-42C1-AB5D-55BFD54BA31A: Unknown\n",
      "7989A84D-68BB-4AD5-9508-CA1403B94828: LE_WH-1000XM3\n",
      "3DAC7859-11ED-4D31-9AB2-EA9DA596503F: Unknown\n",
      "918A4030-73B4-4CD3-BABD-60BCC8767FDC: Unknown\n",
      "79246D7C-988C-471F-90F4-1AE79C947C68: Unknown\n",
      "A3DF737A-FB53-4C17-87DF-9D67AF59FE8F: Unknown\n",
      "D82DF447-2D46-487F-922E-2A1F9175F0A8: Unknown\n",
      "8736C41E-EFD6-48E8-8FD0-4A3C388DBEE5: Unknown\n",
      "A9935744-158F-4B99-8CB0-0E0BF32FC384: Unknown\n",
      "6624F309-94CF-4FB3-931A-BE5EAD668EB0: Unknown\n",
      "7ED96C2A-9F23-47C1-AA55-647989828DA7: Unknown\n",
      "F175EB2F-F2E7-40E8-81A0-388DBE75F1E8: Unknown\n",
      "257F0A53-4E2D-43EA-B007-47D49942087C: Unknown\n",
      "0BDD624A-77C6-4F14-95FF-FA1037C88B23: Unknown\n",
      "A5515F9C-DA16-48BA-AE32-C9D8A7F36B3B: Unknown\n",
      "A1D3D6E7-3250-4F1D-A88B-79D25698E627: Unknown\n",
      "C42B49B7-16F4-41AD-8215-03CCA19FF397: Unknown\n",
      "BC2458F8-C8B1-4218-BBAA-47D6BDD4B6A7: Unknown\n",
      "E7DC6252-E466-4DEC-A225-E2DE74711404: Unknown\n",
      "D48BB8DD-0BC6-48C7-B04D-A7F3A176A3FB: Unknown\n",
      "ECC61208-DDF9-493B-B48C-65D18A23035E: Unknown\n",
      "6DC70744-ED53-41F5-8479-3B126216E41C: Unknown\n",
      "801C0261-9120-475C-9CEF-7791940DF856: Unknown\n",
      "CF728ED5-B98A-4549-98AB-F324FAD5F85C: dAEA00000AMP1N156-_R{#K5F-C(f\n",
      "94FCC6BA-145D-4239-B3C7-76B3F2E88B51: Unknown\n",
      "3A2D29D8-CD08-44F7-8DDC-9354F80DF3B3: Unknown\n",
      "44E8D873-D7DC-4234-BC84-50514C77E78E: Unknown\n",
      "16C11876-084A-4CD8-BD1D-906EC20C5EBD: Unknown\n",
      "B19F168F-6E28-41EA-AB9B-BF3506C79C7B: Unknown\n",
      "100FDD92-0C82-477B-9C43-F7A708AAF414: Unknown\n",
      "21A7F51D-7B62-4FF7-92AF-8C74330A5A06: Unknown\n",
      "32F11C61-F9BE-4944-B810-DFE481EE5B76: Unknown\n",
      "5016510C-0069-4FE2-82CB-0D5ECBACEB29: Unknown\n",
      "5ED5F826-6414-41F6-9364-4DB29CEF5A6D: Unknown\n",
      "D29ADD35-85D8-41C4-8B39-FAFF0CDE8F10: Unknown\n",
      "7F07E69F-90D7-491A-8AE8-0A679B8302B5: Unknown\n",
      "CE3CF49A-AADD-4440-9234-E8011464F5FA: Unknown\n",
      "65E5A5F1-05A9-462E-89C2-8D906145CF92: Unknown\n",
      "6AD25D80-CAFA-4C94-8C8B-FE3A134869A1: Unknown\n",
      "2B5A914B-E1F2-4277-A482-9E5697F7246D: Unknown\n",
      "F1A96221-D020-4F22-A0EC-3BC6814BA68D: Unknown\n",
      "5190E29E-AD1E-46C8-9931-0B82DEB530FA: Unknown\n"
     ]
    }
   ],
   "source": [
    "async def main():\n",
    "    devices = await BleakScanner.discover()\n",
    "    for d in devices:\n",
    "        print(str(d))\n",
    "\n",
    "await main()\n"
   ]
  },
  {
   "cell_type": "code",
   "execution_count": 29,
   "id": "4ee1b0f9",
   "metadata": {},
   "outputs": [
    {
     "name": "stdout",
     "output_type": "stream",
     "text": [
      "connected!\n",
      "Services:\n",
      "32e61089-2b22-4db5-a914-43ce41986c70 (Handle: 11): Unknown\n",
      "Characteristic 32e61089-2b22-4db5-a914-43ce41986c70 (Handle: 11): Unknown was not found!\n"
     ]
    }
   ],
   "source": [
    "address = \"18AA71D6-9FE0-4B8E-B338-E131B3354CDF\"\n",
    "led_characteristic = \"32e61089-2b22-4db5-a914-43ce41986c70\"\n",
    "\n",
    "async def main(address):\n",
    "    client = BleakClient(address, use_cached=False)\n",
    "    try:\n",
    "        await client.connect()\n",
    "        print('connected!')\n",
    "        svcs = await client.get_services()\n",
    "        print(\"Services:\")\n",
    "        ser = 0\n",
    "        for service in svcs:\n",
    "            print(service)\n",
    "#             ser = service\n",
    "#         await client.write_gatt_char(service, b\"\\x00\")\n",
    "#         char_value = await client.read_gatt_char(service)\n",
    "        print(str(char_value))\n",
    "    except Exception as e:\n",
    "        print(e)\n",
    "    finally:\n",
    "        await client.disconnect()\n",
    "await main(address)"
   ]
  },
  {
   "cell_type": "code",
   "execution_count": 30,
   "id": "61833028",
   "metadata": {},
   "outputs": [
    {
     "ename": "BleakError",
     "evalue": "Device with address 18AA71D6-9FE0-4B8E-B338-E131B3354CDF was not found",
     "output_type": "error",
     "traceback": [
      "\u001b[0;31m---------------------------------------------------------------------------\u001b[0m",
      "\u001b[0;31mBleakError\u001b[0m                                Traceback (most recent call last)",
      "\u001b[0;32m/var/folders/j_/rmvg8zw52690s8m6b80w4jn80000gn/T/ipykernel_61929/2210742737.py\u001b[0m in \u001b[0;36m<module>\u001b[0;34m\u001b[0m\n\u001b[1;32m     33\u001b[0m \u001b[0;34m\u001b[0m\u001b[0m\n\u001b[1;32m     34\u001b[0m \u001b[0maddress\u001b[0m \u001b[0;34m=\u001b[0m \u001b[0;34m\"18AA71D6-9FE0-4B8E-B338-E131B3354CDF\"\u001b[0m\u001b[0;34m\u001b[0m\u001b[0;34m\u001b[0m\u001b[0m\n\u001b[0;32m---> 35\u001b[0;31m \u001b[0;32mawait\u001b[0m \u001b[0mmain\u001b[0m\u001b[0;34m(\u001b[0m\u001b[0maddress\u001b[0m\u001b[0;34m)\u001b[0m\u001b[0;34m\u001b[0m\u001b[0;34m\u001b[0m\u001b[0m\n\u001b[0m",
      "\u001b[0;32m/var/folders/j_/rmvg8zw52690s8m6b80w4jn80000gn/T/ipykernel_61929/2210742737.py\u001b[0m in \u001b[0;36mmain\u001b[0;34m(address)\u001b[0m\n\u001b[1;32m      1\u001b[0m \u001b[0;32masync\u001b[0m \u001b[0;32mdef\u001b[0m \u001b[0mmain\u001b[0m\u001b[0;34m(\u001b[0m\u001b[0maddress\u001b[0m\u001b[0;34m)\u001b[0m\u001b[0;34m:\u001b[0m\u001b[0;34m\u001b[0m\u001b[0;34m\u001b[0m\u001b[0m\n\u001b[0;32m----> 2\u001b[0;31m     \u001b[0;32masync\u001b[0m \u001b[0;32mwith\u001b[0m \u001b[0mBleakClient\u001b[0m\u001b[0;34m(\u001b[0m\u001b[0maddress\u001b[0m\u001b[0;34m)\u001b[0m \u001b[0;32mas\u001b[0m \u001b[0mclient\u001b[0m\u001b[0;34m:\u001b[0m\u001b[0;34m\u001b[0m\u001b[0;34m\u001b[0m\u001b[0m\n\u001b[0m\u001b[1;32m      3\u001b[0m         \u001b[0mlogger\u001b[0m\u001b[0;34m.\u001b[0m\u001b[0minfo\u001b[0m\u001b[0;34m(\u001b[0m\u001b[0;34mf\"Connected: {client.is_connected}\"\u001b[0m\u001b[0;34m)\u001b[0m\u001b[0;34m\u001b[0m\u001b[0;34m\u001b[0m\u001b[0m\n\u001b[1;32m      4\u001b[0m \u001b[0;34m\u001b[0m\u001b[0m\n\u001b[1;32m      5\u001b[0m         \u001b[0;32mfor\u001b[0m \u001b[0mservice\u001b[0m \u001b[0;32min\u001b[0m \u001b[0mclient\u001b[0m\u001b[0;34m.\u001b[0m\u001b[0mservices\u001b[0m\u001b[0;34m:\u001b[0m\u001b[0;34m\u001b[0m\u001b[0;34m\u001b[0m\u001b[0m\n",
      "\u001b[0;32m/usr/local/lib/python3.9/site-packages/bleak/backends/client.py\u001b[0m in \u001b[0;36m__aenter__\u001b[0;34m(self)\u001b[0m\n\u001b[1;32m     59\u001b[0m \u001b[0;34m\u001b[0m\u001b[0m\n\u001b[1;32m     60\u001b[0m     \u001b[0;32masync\u001b[0m \u001b[0;32mdef\u001b[0m \u001b[0m__aenter__\u001b[0m\u001b[0;34m(\u001b[0m\u001b[0mself\u001b[0m\u001b[0;34m)\u001b[0m\u001b[0;34m:\u001b[0m\u001b[0;34m\u001b[0m\u001b[0;34m\u001b[0m\u001b[0m\n\u001b[0;32m---> 61\u001b[0;31m         \u001b[0;32mawait\u001b[0m \u001b[0mself\u001b[0m\u001b[0;34m.\u001b[0m\u001b[0mconnect\u001b[0m\u001b[0;34m(\u001b[0m\u001b[0;34m)\u001b[0m\u001b[0;34m\u001b[0m\u001b[0;34m\u001b[0m\u001b[0m\n\u001b[0m\u001b[1;32m     62\u001b[0m         \u001b[0;32mreturn\u001b[0m \u001b[0mself\u001b[0m\u001b[0;34m\u001b[0m\u001b[0;34m\u001b[0m\u001b[0m\n\u001b[1;32m     63\u001b[0m \u001b[0;34m\u001b[0m\u001b[0m\n",
      "\u001b[0;32m/usr/local/lib/python3.9/site-packages/bleak/backends/corebluetooth/client.py\u001b[0m in \u001b[0;36mconnect\u001b[0;34m(self, **kwargs)\u001b[0m\n\u001b[1;32m     84\u001b[0m                 \u001b[0mself\u001b[0m\u001b[0;34m.\u001b[0m\u001b[0m_central_manager_delegate\u001b[0m \u001b[0;34m=\u001b[0m \u001b[0mdevice\u001b[0m\u001b[0;34m.\u001b[0m\u001b[0mmetadata\u001b[0m\u001b[0;34m[\u001b[0m\u001b[0;34m\"delegate\"\u001b[0m\u001b[0;34m]\u001b[0m\u001b[0;34m\u001b[0m\u001b[0;34m\u001b[0m\u001b[0m\n\u001b[1;32m     85\u001b[0m             \u001b[0;32melse\u001b[0m\u001b[0;34m:\u001b[0m\u001b[0;34m\u001b[0m\u001b[0;34m\u001b[0m\u001b[0m\n\u001b[0;32m---> 86\u001b[0;31m                 raise BleakError(\n\u001b[0m\u001b[1;32m     87\u001b[0m                     \u001b[0;34m\"Device with address {} was not found\"\u001b[0m\u001b[0;34m.\u001b[0m\u001b[0mformat\u001b[0m\u001b[0;34m(\u001b[0m\u001b[0mself\u001b[0m\u001b[0;34m.\u001b[0m\u001b[0maddress\u001b[0m\u001b[0;34m)\u001b[0m\u001b[0;34m\u001b[0m\u001b[0;34m\u001b[0m\u001b[0m\n\u001b[1;32m     88\u001b[0m                 )\n",
      "\u001b[0;31mBleakError\u001b[0m: Device with address 18AA71D6-9FE0-4B8E-B338-E131B3354CDF was not found"
     ]
    }
   ],
   "source": [
    "async def main(address):\n",
    "    async with BleakClient(address) as client:\n",
    "        logger.info(f\"Connected: {client.is_connected}\")\n",
    "\n",
    "        for service in client.services:\n",
    "            logger.info(f\"[Service] {service}\")\n",
    "            for char in service.characteristics:\n",
    "                if \"read\" in char.properties:\n",
    "                    try:\n",
    "                        value = bytes(await client.read_gatt_char(char.uuid))\n",
    "                        logger.info(\n",
    "                            f\"\\t[Characteristic] {char} ({','.join(char.properties)}), Value: {value}\"\n",
    "                        )\n",
    "                    except Exception as e:\n",
    "                        logger.error(\n",
    "                            f\"\\t[Characteristic] {char} ({','.join(char.properties)}), Value: {e}\"\n",
    "                        )\n",
    "\n",
    "                else:\n",
    "                    value = None\n",
    "                    logger.info(\n",
    "                        f\"\\t[Characteristic] {char} ({','.join(char.properties)}), Value: {value}\"\n",
    "                    )\n",
    "\n",
    "                for descriptor in char.descriptors:\n",
    "                    try:\n",
    "                        value = bytes(\n",
    "                            await client.read_gatt_descriptor(descriptor.handle)\n",
    "                        )\n",
    "                        logger.info(f\"\\t\\t[Descriptor] {descriptor}) | Value: {value}\")\n",
    "                    except Exception as e:\n",
    "                        logger.error(f\"\\t\\t[Descriptor] {descriptor}) | Value: {e}\")\n",
    "\n",
    "address = \"18AA71D6-9FE0-4B8E-B338-E131B3354CDF\"\n",
    "await main(address)"
   ]
  },
  {
   "cell_type": "code",
   "execution_count": null,
   "id": "6f585aa2",
   "metadata": {},
   "outputs": [],
   "source": []
  }
 ],
 "metadata": {
  "kernelspec": {
   "display_name": "Python 3 (ipykernel)",
   "language": "python",
   "name": "python3"
  },
  "language_info": {
   "codemirror_mode": {
    "name": "ipython",
    "version": 3
   },
   "file_extension": ".py",
   "mimetype": "text/x-python",
   "name": "python",
   "nbconvert_exporter": "python",
   "pygments_lexer": "ipython3",
   "version": "3.9.9"
  }
 },
 "nbformat": 4,
 "nbformat_minor": 5
}
