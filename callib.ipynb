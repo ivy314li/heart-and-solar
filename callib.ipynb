{
 "cells": [
  {
   "cell_type": "markdown",
   "id": "597452c6",
   "metadata": {},
   "source": [
    "sourced from: https://medium.com/vacatronics/3-ways-to-calibrate-your-camera-using-opencv-and-python-395528a51615\n",
    "\n",
    "run before everything to callibrate camera"
   ]
  },
  {
   "cell_type": "code",
   "execution_count": 1,
   "id": "48d87583",
   "metadata": {},
   "outputs": [],
   "source": [
    "import cv2\n",
    "import numpy as np\n",
    "import pathlib\n",
    "import os\n",
    "import cv2.aruco as aruco"
   ]
  },
  {
   "cell_type": "code",
   "execution_count": 2,
   "id": "6253a2df",
   "metadata": {},
   "outputs": [],
   "source": [
    "def save_coefficients(mtx, dist, path):\n",
    "    '''Save the camera matrix and the distortion coefficients to given path/file.'''\n",
    "    cv_file = cv2.FileStorage(path, cv2.FILE_STORAGE_WRITE)\n",
    "    cv_file.write('K', mtx)\n",
    "    cv_file.write('D', dist)\n",
    "    # note you *release* you don't close() a FileStorage object\n",
    "    cv_file.release()\n",
    "\n",
    "def load_coefficients(path):\n",
    "    '''Loads camera matrix and distortion coefficients.'''\n",
    "    # FILE_STORAGE_READ\n",
    "    cv_file = cv2.FileStorage(path, cv2.FILE_STORAGE_READ)\n",
    "\n",
    "    # note we also have to specify the type to retrieve other wise we only get a\n",
    "    # FileNode object back instead of a matrix\n",
    "    camera_matrix = cv_file.getNode('K').mat()\n",
    "    dist_matrix = cv_file.getNode('D').mat()\n",
    "\n",
    "    cv_file.release()\n",
    "    return [camera_matrix, dist_matrix]"
   ]
  },
  {
   "cell_type": "code",
   "execution_count": 21,
   "id": "3fd84503",
   "metadata": {},
   "outputs": [],
   "source": [
    "\n",
    "# Create gridboard, which is a set of Aruco markers\n",
    "# the following call gets a board of markers 5 wide X 7 tall\n",
    "gridboard = aruco.GridBoard_create(\n",
    "        markersX=3, \n",
    "        markersY=3, \n",
    "        markerLength=0.1, \n",
    "        markerSeparation=0.01, \n",
    "        dictionary=aruco.Dictionary_get(aruco.DICT_4X4_50))\n",
    "\n",
    "# Create an image from the gridboard\n",
    "img = gridboard.draw(outSize=(900, 900))\n",
    "cv2.imwrite(\"test_gridboard.jpg\", img)\n",
    "\n",
    "# Display the image to us\n",
    "cv2.imshow('Gridboard', img)\n",
    "# Exit on any key\n",
    "cv2.waitKey(0)\n",
    "cv2.destroyAllWindows()"
   ]
  },
  {
   "cell_type": "code",
   "execution_count": 59,
   "id": "b2d7ffca",
   "metadata": {},
   "outputs": [
    {
     "name": "stdout",
     "output_type": "stream",
     "text": [
      "<aruco_GridBoard 0x111be55d0>\n"
     ]
    }
   ],
   "source": [
    "print(str(board))"
   ]
  },
  {
   "cell_type": "code",
   "execution_count": 51,
   "id": "4f58fa7f",
   "metadata": {},
   "outputs": [],
   "source": [
    "def calibrate_chessboard(dir_path, image_format, square_size, width, height):\n",
    "    '''Calibrate a camera using chessboard images.'''\n",
    "    # termination criteria\n",
    "    criteria = (cv2.TERM_CRITERIA_EPS + cv2.TERM_CRITERIA_MAX_ITER, 30, 0.001)\n",
    "    \n",
    "    # prepare object points, like (0,0,0), (1,0,0), (2,0,0) ....,(8,6,0)\n",
    "    objp = np.zeros((height*width, 3), np.float32)\n",
    "    objp[:, :2] = np.mgrid[0:width, 0:height].T.reshape(-1, 2)\n",
    "\n",
    "    objp = objp * square_size\n",
    "\n",
    "    # Arrays to store object points and image points from all the images.\n",
    "    objpoints = []  # 3d point in real world space\n",
    "    imgpoints = []  # 2d points in image plane.\n",
    "    images = pathlib.Path(dir_path).glob(f'*.png')\n",
    "    #images = pathlib.Path(dir_path)\n",
    "    # Iterate through all images\n",
    "    for fname in images:\n",
    "        img = cv2.imread(str(fname))\n",
    "        gray = cv2.cvtColor(img, cv2.COLOR_BGR2GRAY)\n",
    "\n",
    "        # Find the chess board corners\n",
    "        ret, corners = cv2.findChessboardCorners(gray, (width, height), None)\n",
    "        print(fname)\n",
    "        print(ret)\n",
    "       \n",
    "\n",
    "        # If found, add object points, image points (after refining them)\n",
    "        if ret:\n",
    "            objpoints.append(objp)\n",
    "\n",
    "            corners2 = cv2.cornerSubPix(gray, corners, (11, 11), (-1, -1), criteria)\n",
    "            imgpoints.append(corners2)\n",
    "\n",
    "    # Calibrate camera\n",
    "    ret, mtx, dist, rvecs, tvecs = cv2.calibrateCamera(objpoints, imgpoints, gray.shape[::-1], None, None)\n",
    "\n",
    "    return [ret, mtx, dist, rvecs, tvecs]"
   ]
  },
  {
   "cell_type": "code",
   "execution_count": 52,
   "id": "3183c97c",
   "metadata": {},
   "outputs": [
    {
     "name": "stdout",
     "output_type": "stream",
     "text": [
      "/Users/ivyli/149proj/homeChessboards/eef.png\n",
      "False\n",
      "/Users/ivyli/149proj/homeChessboards/sadge.png\n",
      "False\n",
      "/Users/ivyli/149proj/homeChessboards/uuf.png\n",
      "False\n",
      "/Users/ivyli/149proj/homeChessboards/oof.png\n",
      "False\n",
      "/Users/ivyli/149proj/homeChessboards/aaf.png\n",
      "False\n",
      "/Users/ivyli/149proj/homeChessboards/yyf.png\n",
      "False\n",
      "/Users/ivyli/149proj/homeChessboards/iif.png\n",
      "False\n"
     ]
    },
    {
     "ename": "error",
     "evalue": "OpenCV(4.5.4) /private/var/folders/j_/rmvg8zw52690s8m6b80w4jn80000gn/T/pip-install-l94g_e6x/opencv-contrib-python_cdd27c205f86421a91737e2d1866e827/opencv/modules/calib3d/src/calibration.cpp:3694: error: (-215:Assertion failed) nimages > 0 in function 'calibrateCameraRO'\n",
     "output_type": "error",
     "traceback": [
      "\u001b[0;31m---------------------------------------------------------------------------\u001b[0m",
      "\u001b[0;31merror\u001b[0m                                     Traceback (most recent call last)",
      "\u001b[0;32m<ipython-input-52-f45f847f1ab7>\u001b[0m in \u001b[0;36m<module>\u001b[0;34m\u001b[0m\n\u001b[1;32m     12\u001b[0m     \u001b[0mSQUARE_SIZE\u001b[0m\u001b[0;34m,\u001b[0m\u001b[0;34m\u001b[0m\u001b[0m\n\u001b[1;32m     13\u001b[0m     \u001b[0mWIDTH\u001b[0m\u001b[0;34m,\u001b[0m\u001b[0;34m\u001b[0m\u001b[0m\n\u001b[0;32m---> 14\u001b[0;31m     \u001b[0mHEIGHT\u001b[0m\u001b[0;34m\u001b[0m\u001b[0m\n\u001b[0m\u001b[1;32m     15\u001b[0m )\n\u001b[1;32m     16\u001b[0m \u001b[0;31m# Save coefficients into a file\u001b[0m\u001b[0;34m\u001b[0m\u001b[0;34m\u001b[0m\u001b[0m\n",
      "\u001b[0;32m<ipython-input-51-610c7385cb69>\u001b[0m in \u001b[0;36mcalibrate_chessboard\u001b[0;34m(dir_path, image_format, square_size, width, height)\u001b[0m\n\u001b[1;32m     34\u001b[0m \u001b[0;34m\u001b[0m\u001b[0m\n\u001b[1;32m     35\u001b[0m     \u001b[0;31m# Calibrate camera\u001b[0m\u001b[0;34m\u001b[0m\u001b[0;34m\u001b[0m\u001b[0m\n\u001b[0;32m---> 36\u001b[0;31m     \u001b[0mret\u001b[0m\u001b[0;34m,\u001b[0m \u001b[0mmtx\u001b[0m\u001b[0;34m,\u001b[0m \u001b[0mdist\u001b[0m\u001b[0;34m,\u001b[0m \u001b[0mrvecs\u001b[0m\u001b[0;34m,\u001b[0m \u001b[0mtvecs\u001b[0m \u001b[0;34m=\u001b[0m \u001b[0mcv2\u001b[0m\u001b[0;34m.\u001b[0m\u001b[0mcalibrateCamera\u001b[0m\u001b[0;34m(\u001b[0m\u001b[0mobjpoints\u001b[0m\u001b[0;34m,\u001b[0m \u001b[0mimgpoints\u001b[0m\u001b[0;34m,\u001b[0m \u001b[0mgray\u001b[0m\u001b[0;34m.\u001b[0m\u001b[0mshape\u001b[0m\u001b[0;34m[\u001b[0m\u001b[0;34m:\u001b[0m\u001b[0;34m:\u001b[0m\u001b[0;34m-\u001b[0m\u001b[0;36m1\u001b[0m\u001b[0;34m]\u001b[0m\u001b[0;34m,\u001b[0m \u001b[0;32mNone\u001b[0m\u001b[0;34m,\u001b[0m \u001b[0;32mNone\u001b[0m\u001b[0;34m)\u001b[0m\u001b[0;34m\u001b[0m\u001b[0m\n\u001b[0m\u001b[1;32m     37\u001b[0m \u001b[0;34m\u001b[0m\u001b[0m\n\u001b[1;32m     38\u001b[0m     \u001b[0;32mreturn\u001b[0m \u001b[0;34m[\u001b[0m\u001b[0mret\u001b[0m\u001b[0;34m,\u001b[0m \u001b[0mmtx\u001b[0m\u001b[0;34m,\u001b[0m \u001b[0mdist\u001b[0m\u001b[0;34m,\u001b[0m \u001b[0mrvecs\u001b[0m\u001b[0;34m,\u001b[0m \u001b[0mtvecs\u001b[0m\u001b[0;34m]\u001b[0m\u001b[0;34m\u001b[0m\u001b[0m\n",
      "\u001b[0;31merror\u001b[0m: OpenCV(4.5.4) /private/var/folders/j_/rmvg8zw52690s8m6b80w4jn80000gn/T/pip-install-l94g_e6x/opencv-contrib-python_cdd27c205f86421a91737e2d1866e827/opencv/modules/calib3d/src/calibration.cpp:3694: error: (-215:Assertion failed) nimages > 0 in function 'calibrateCameraRO'\n"
     ]
    }
   ],
   "source": [
    "# Parameters\n",
    "IMAGES_DIR = '/Users/ivyli/149proj/homeChessboards'\n",
    "IMAGES_FORMAT = '.png'\n",
    "SQUARE_SIZE = 2.5\n",
    "WIDTH = 5\n",
    "HEIGHT = 8\n",
    "\n",
    "# Calibrate \n",
    "ret, mtx, dist, rvecs, tvecs = calibrate_chessboard(\n",
    "    IMAGES_DIR, \n",
    "    IMAGES_FORMAT, \n",
    "    SQUARE_SIZE, \n",
    "    WIDTH, \n",
    "    HEIGHT\n",
    ")\n",
    "# Save coefficients into a file\n",
    "save_coefficients(mtx, dist, \"calibration_chessboard.yml\")"
   ]
  },
  {
   "cell_type": "code",
   "execution_count": 28,
   "id": "5669d4cc",
   "metadata": {},
   "outputs": [],
   "source": [
    "def calibrate_aruco(dirpath, image_format, marker_length, marker_separation):\n",
    "    '''Apply camera calibration using aruco.\n",
    "    The dimensions are in cm.\n",
    "    '''\n",
    "    aruco_dict = aruco.Dictionary_get(aruco.DICT_4X4_50)\n",
    "    arucoParams = aruco.DetectorParameters_create()\n",
    "    board = aruco.GridBoard_create(3, 3, marker_length, marker_separation, aruco_dict)\n",
    "\n",
    "    counter, corners_list, id_list = [], [], []\n",
    "    img_dir = pathlib.Path(dirpath)\n",
    "    first = 0\n",
    "    # Find the ArUco markers inside each image\n",
    "    for img in img_dir.glob(f'*.png'):\n",
    "        print(str(img))\n",
    "        image = cv2.imread(str(img))\n",
    "        img_gray = cv2.cvtColor(image, cv2.COLOR_BGR2GRAY)\n",
    "        corners, ids, rejected = aruco.detectMarkers(\n",
    "            img_gray, \n",
    "            aruco_dict, \n",
    "            parameters=arucoParams\n",
    "        )\n",
    "        if first == 0:\n",
    "            corners_list = corners\n",
    "            id_list = ids\n",
    "        else:\n",
    "            corners_list = np.vstack((corners_list, corners))\n",
    "            id_list = np.vstack((id_list,ids))\n",
    "        first = first + 1\n",
    "        counter.append(len(ids))\n",
    "\n",
    "    counter = np.array(counter)\n",
    "    # Actual calibration\n",
    "    ret, mtx, dist, rvecs, tvecs = aruco.calibrateCameraAruco(\n",
    "        corners_list, \n",
    "        id_list,\n",
    "        counter, \n",
    "        board, \n",
    "        img_gray.shape, \n",
    "        None, \n",
    "        None \n",
    "    )\n",
    "    return [ret, mtx, dist, rvecs, tvecs]"
   ]
  },
  {
   "cell_type": "code",
   "execution_count": 29,
   "id": "91fec74d",
   "metadata": {},
   "outputs": [
    {
     "name": "stdout",
     "output_type": "stream",
     "text": [
      "/Users/ivyli/149proj/homeChessboards/Screen Shot 2021-11-27 at 9.30.08 PM.png\n",
      "/Users/ivyli/149proj/homeChessboards/Screen Shot 2021-11-27 at 9.30.20 PM.png\n",
      "/Users/ivyli/149proj/homeChessboards/Screen Shot 2021-11-27 at 9.35.01 PM.png\n",
      "/Users/ivyli/149proj/homeChessboards/Screen Shot 2021-11-27 at 9.34.50 PM.png\n",
      "/Users/ivyli/149proj/homeChessboards/board1.png\n",
      "/Users/ivyli/149proj/homeChessboards/Screen Shot 2021-11-27 at 9.34.39 PM.png\n",
      "/Users/ivyli/149proj/homeChessboards/Screen Shot 2021-11-27 at 9.30.42 PM.png\n",
      "/Users/ivyli/149proj/homeChessboards/Screen Shot 2021-11-27 at 9.30.31 PM.png\n",
      "/Users/ivyli/149proj/homeChessboards/Screen Shot 2021-11-27 at 9.34.28 PM.png\n",
      "/Users/ivyli/149proj/homeChessboards/Screen Shot 2021-11-27 at 9.30.54 PM.png\n"
     ]
    },
    {
     "data": {
      "text/plain": [
       "True"
      ]
     },
     "execution_count": 29,
     "metadata": {},
     "output_type": "execute_result"
    }
   ],
   "source": [
    "\n",
    "# Parameters\n",
    "IMAGES_DIR = '/Users/ivyli/149proj/homeChessboards'\n",
    "IMAGES_FORMAT = '.png'\n",
    "# Dimensions in cm\n",
    "MARKER_LENGTH = 6.5\n",
    "MARKER_SEPARATION = 0.6\n",
    "\n",
    "# Calibrate \n",
    "ret, mtx, dist, rvecs, tvecs = calibrate_aruco(\n",
    "    IMAGES_DIR, \n",
    "    IMAGES_FORMAT,\n",
    "    MARKER_LENGTH,\n",
    "    MARKER_SEPARATION\n",
    ")\n",
    "# Save coefficients into a file\n",
    "save_coefficients(mtx, dist, \"calibration_aruco.yml\")\n",
    "\n",
    "# Load coefficients\n",
    "mtx, dist = load_coefficients('calibration_aruco.yml')\n",
    "original = cv2.imread('/Users/ivyli/149proj/homeChessboards/board1.png')\n",
    "dst = cv2.undistort(img, mtx, dist, None, None)\n",
    "cv2.imwrite('undist.jpg', dst)"
   ]
  },
  {
   "cell_type": "code",
   "execution_count": 30,
   "id": "b9fb2ce7",
   "metadata": {},
   "outputs": [
    {
     "data": {
      "text/plain": [
       "array([[2.03494379e+03, 0.00000000e+00, 3.06593327e+02],\n",
       "       [0.00000000e+00, 5.44357684e+03, 4.28989549e+02],\n",
       "       [0.00000000e+00, 0.00000000e+00, 1.00000000e+00]])"
      ]
     },
     "execution_count": 30,
     "metadata": {},
     "output_type": "execute_result"
    }
   ],
   "source": [
    "mtx"
   ]
  },
  {
   "cell_type": "code",
   "execution_count": 31,
   "id": "718e4b66",
   "metadata": {},
   "outputs": [
    {
     "data": {
      "text/plain": [
       "array([[ 1.93698822e+00, -1.25582056e+02, -4.20302872e-02,\n",
       "         3.30306420e-02,  2.47023267e+03]])"
      ]
     },
     "execution_count": 31,
     "metadata": {},
     "output_type": "execute_result"
    }
   ],
   "source": [
    "dist"
   ]
  },
  {
   "cell_type": "code",
   "execution_count": null,
   "id": "2a9f4b86",
   "metadata": {},
   "outputs": [],
   "source": []
  }
 ],
 "metadata": {
  "kernelspec": {
   "display_name": "Python 3",
   "language": "python",
   "name": "python3"
  },
  "language_info": {
   "codemirror_mode": {
    "name": "ipython",
    "version": 3
   },
   "file_extension": ".py",
   "mimetype": "text/x-python",
   "name": "python",
   "nbconvert_exporter": "python",
   "pygments_lexer": "ipython3",
   "version": "3.6.5"
  }
 },
 "nbformat": 4,
 "nbformat_minor": 5
}
