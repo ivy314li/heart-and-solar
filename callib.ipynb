{
 "cells": [
  {
   "cell_type": "markdown",
   "metadata": {},
   "source": [
    "sourced from: https://medium.com/vacatronics/3-ways-to-calibrate-your-camera-using-opencv-and-python-395528a51615\n",
    "\n",
    "run before everything to callibrate camera"
   ]
  },
  {
   "cell_type": "code",
   "execution_count": 1,
   "metadata": {},
   "outputs": [],
   "source": [
    "import cv2\n",
    "import numpy as np\n",
    "import pathlib\n",
    "import os\n",
    "import imutils\n",
    "import cv2.aruco as aruco\n",
    "from imutils.video import VideoStream\n",
    "import time"
   ]
  },
  {
   "cell_type": "code",
   "execution_count": 7,
   "metadata": {},
   "outputs": [],
   "source": [
    "def save_coefficients(mtx, dist, path):\n",
    "    '''Save the camera matrix and the distortion coefficients to given path/file.'''\n",
    "    cv_file = cv2.FileStorage(path, cv2.FILE_STORAGE_WRITE)\n",
    "    cv_file.write('K', mtx)\n",
    "    cv_file.write('D', dist)\n",
    "    # note you *release* you don't close() a FileStorage object\n",
    "    cv_file.release()\n",
    "\n",
    "def load_coefficients(path):\n",
    "    '''Loads camera matrix and distortion coefficients.'''\n",
    "    # FILE_STORAGE_READ\n",
    "    cv_file = cv2.FileStorage(path, cv2.FILE_STORAGE_READ)\n",
    "\n",
    "    # note we also have to specify the type to retrieve other wise we only get a\n",
    "    # FileNode object back instead of a matrix\n",
    "    camera_matrix = cv_file.getNode('K').mat()\n",
    "    dist_matrix = cv_file.getNode('D').mat()\n",
    "\n",
    "    cv_file.release()\n",
    "    return [camera_matrix, dist_matrix]"
   ]
  },
  {
   "cell_type": "code",
   "execution_count": 3,
   "metadata": {},
   "outputs": [
    {
     "ename": "KeyboardInterrupt",
     "evalue": "",
     "output_type": "error",
     "traceback": [
      "\u001b[0;31m---------------------------------------------------------------------------\u001b[0m",
      "\u001b[0;31mKeyboardInterrupt\u001b[0m                         Traceback (most recent call last)",
      "\u001b[0;32m/var/folders/j_/rmvg8zw52690s8m6b80w4jn80000gn/T/ipykernel_14990/3031108225.py\u001b[0m in \u001b[0;36m<module>\u001b[0;34m\u001b[0m\n\u001b[1;32m     15\u001b[0m \u001b[0mcv2\u001b[0m\u001b[0;34m.\u001b[0m\u001b[0mimshow\u001b[0m\u001b[0;34m(\u001b[0m\u001b[0;34m'Gridboard'\u001b[0m\u001b[0;34m,\u001b[0m \u001b[0mimg\u001b[0m\u001b[0;34m)\u001b[0m\u001b[0;34m\u001b[0m\u001b[0;34m\u001b[0m\u001b[0m\n\u001b[1;32m     16\u001b[0m \u001b[0;31m# Exit on any key\u001b[0m\u001b[0;34m\u001b[0m\u001b[0;34m\u001b[0m\u001b[0m\n\u001b[0;32m---> 17\u001b[0;31m \u001b[0mcv2\u001b[0m\u001b[0;34m.\u001b[0m\u001b[0mwaitKey\u001b[0m\u001b[0;34m(\u001b[0m\u001b[0;36m0\u001b[0m\u001b[0;34m)\u001b[0m\u001b[0;34m\u001b[0m\u001b[0;34m\u001b[0m\u001b[0m\n\u001b[0m\u001b[1;32m     18\u001b[0m \u001b[0mcv2\u001b[0m\u001b[0;34m.\u001b[0m\u001b[0mdestroyAllWindows\u001b[0m\u001b[0;34m(\u001b[0m\u001b[0;34m)\u001b[0m\u001b[0;34m\u001b[0m\u001b[0;34m\u001b[0m\u001b[0m\n",
      "\u001b[0;31mKeyboardInterrupt\u001b[0m: "
     ]
    }
   ],
   "source": [
    "\n",
    "# Create gridboard, which is a set of Aruco markers\n",
    "# the following call gets a board of markers 5 wide X 7 tall\n",
    "gridboard = aruco.GridBoard_create(\n",
    "        markersX=3, \n",
    "        markersY=3, \n",
    "        markerLength=0.1, \n",
    "        markerSeparation=0.01, \n",
    "        dictionary=aruco.Dictionary_get(aruco.DICT_4X4_50))\n",
    "\n",
    "# Create an image from the gridboard\n",
    "img = gridboard.draw(outSize=(900, 900))\n",
    "cv2.imwrite(\"test_gridboard.jpg\", img)\n",
    "\n",
    "# Display the image to us\n",
    "cv2.imshow('Gridboard', img)\n",
    "# Exit on any key\n",
    "cv2.waitKey(0)\n",
    "cv2.destroyAllWindows()"
   ]
  },
  {
   "cell_type": "code",
   "execution_count": 8,
   "metadata": {},
   "outputs": [],
   "source": [
    "def calibrate_aruco(dirpath, image_format, marker_length, marker_separation):\n",
    "    '''Apply camera calibration using aruco.\n",
    "    The dimensions are in cm.\n",
    "    '''\n",
    "    aruco_dict = aruco.Dictionary_get(aruco.DICT_4X4_50)\n",
    "    arucoParams = aruco.DetectorParameters_create()\n",
    "    board = aruco.GridBoard_create(3, 3, marker_length, marker_separation, aruco_dict)\n",
    "\n",
    "    counter, corners_list, id_list = [], [], []\n",
    "    img_dir = pathlib.Path(dirpath)\n",
    "    first = 0\n",
    "    # Find the ArUco markers inside each image\n",
    "    for img in img_dir.glob(f'*.jpg'):\n",
    "        print(str(img))\n",
    "        image = cv2.imread(str(img))\n",
    "        img_gray = cv2.cvtColor(image, cv2.COLOR_BGR2GRAY)\n",
    "        corners, ids, rejected = aruco.detectMarkers(\n",
    "            img_gray, \n",
    "            aruco_dict, \n",
    "            parameters=arucoParams\n",
    "        )\n",
    "        if first == 0:\n",
    "            corners_list = corners\n",
    "            id_list = ids\n",
    "        else:\n",
    "            corners_list = np.vstack((corners_list, corners))\n",
    "            id_list = np.vstack((id_list,ids))\n",
    "        first = first + 1\n",
    "        counter.append(len(ids))\n",
    "\n",
    "    counter = np.array(counter)\n",
    "    # Actual calibration\n",
    "    ret, mtx, dist, rvecs, tvecs = aruco.calibrateCameraAruco(\n",
    "        corners_list, \n",
    "        id_list,\n",
    "        counter, \n",
    "        board, \n",
    "        img_gray.shape, \n",
    "        None, \n",
    "        None \n",
    "    )\n",
    "    return [ret, mtx, dist, rvecs, tvecs]"
   ]
  },
  {
   "cell_type": "code",
   "execution_count": 9,
   "metadata": {},
   "outputs": [
    {
     "name": "stdout",
     "output_type": "stream",
     "text": [
      "/Users/ivyli/149proj/calib1214/gb12.jpg\n",
      "/Users/ivyli/149proj/calib1214/gb13.jpg\n",
      "/Users/ivyli/149proj/calib1214/gb11.jpg\n",
      "/Users/ivyli/149proj/calib1214/gb10.jpg\n",
      "/Users/ivyli/149proj/calib1214/gb28.jpg\n",
      "/Users/ivyli/149proj/calib1214/gb14.jpg\n",
      "/Users/ivyli/149proj/calib1214/gb15.jpg\n",
      "/Users/ivyli/149proj/calib1214/gb29.jpg\n",
      "/Users/ivyli/149proj/calib1214/gb17.jpg\n",
      "/Users/ivyli/149proj/calib1214/gb16.jpg\n",
      "/Users/ivyli/149proj/calib1214/gb7.jpg\n",
      "/Users/ivyli/149proj/calib1214/gb6.jpg\n",
      "/Users/ivyli/149proj/calib1214/gb4.jpg\n",
      "/Users/ivyli/149proj/calib1214/gb5.jpg\n",
      "/Users/ivyli/149proj/calib1214/gb2.jpg\n",
      "/Users/ivyli/149proj/calib1214/gb3.jpg\n",
      "/Users/ivyli/149proj/calib1214/gb8.jpg\n",
      "/Users/ivyli/149proj/calib1214/gb9.jpg\n",
      "/Users/ivyli/149proj/calib1214/gb27.jpg\n",
      "/Users/ivyli/149proj/calib1214/gb26.jpg\n",
      "/Users/ivyli/149proj/calib1214/gb24.jpg\n",
      "/Users/ivyli/149proj/calib1214/gb30.jpg\n",
      "/Users/ivyli/149proj/calib1214/gb18.jpg\n",
      "/Users/ivyli/149proj/calib1214/gb19.jpg\n",
      "/Users/ivyli/149proj/calib1214/gb25.jpg\n",
      "/Users/ivyli/149proj/calib1214/gb21.jpg\n",
      "/Users/ivyli/149proj/calib1214/gb20.jpg\n",
      "/Users/ivyli/149proj/calib1214/gb22.jpg\n",
      "/Users/ivyli/149proj/calib1214/gb23.jpg\n"
     ]
    },
    {
     "data": {
      "text/plain": [
       "True"
      ]
     },
     "execution_count": 9,
     "metadata": {},
     "output_type": "execute_result"
    }
   ],
   "source": [
    "\n",
    "# Parameters\n",
    "IMAGES_DIR = '/Users/ivyli/149proj/calib1214'\n",
    "IMAGES_FORMAT = '.png'\n",
    "# Dimensions in cm\n",
    "MARKER_LENGTH = 5.5\n",
    "MARKER_SEPARATION = 1.1\n",
    "\n",
    "# Calibrate \n",
    "ret, mtx, dist, rvecs, tvecs = calibrate_aruco(\n",
    "    IMAGES_DIR, \n",
    "    IMAGES_FORMAT,\n",
    "    MARKER_LENGTH,\n",
    "    MARKER_SEPARATION\n",
    ")\n",
    "# Save coefficients into a file\n",
    "save_coefficients(mtx, dist, \"calibration_aruco2.yml\")\n",
    "\n",
    "# Load coefficients\n",
    "mtx, dist = load_coefficients('calibration_aruco1.yml')\n",
    "original = cv2.imread('/Users/ivyli/149proj/sample33.jpg')\n",
    "dst = cv2.undistort(original, mtx, dist, None, None)\n",
    "cv2.imwrite('undist.jpg', dst)"
   ]
  },
  {
   "cell_type": "code",
   "execution_count": 11,
   "metadata": {},
   "outputs": [
    {
     "data": {
      "text/plain": [
       "array([[1.59213406e+03, 0.00000000e+00, 2.90901053e+02],\n",
       "       [0.00000000e+00, 1.19010464e+03, 5.03743563e+02],\n",
       "       [0.00000000e+00, 0.00000000e+00, 1.00000000e+00]])"
      ]
     },
     "execution_count": 11,
     "metadata": {},
     "output_type": "execute_result"
    }
   ],
   "source": [
    "mtx"
   ]
  },
  {
   "cell_type": "code",
   "execution_count": 13,
   "metadata": {},
   "outputs": [
    {
     "data": {
      "text/plain": [
       "array([[ 1.18030101, -2.18801478,  0.42753859,  0.06792766,  3.6625339 ]])"
      ]
     },
     "execution_count": 13,
     "metadata": {},
     "output_type": "execute_result"
    }
   ],
   "source": [
    "dist"
   ]
  },
  {
   "cell_type": "code",
   "execution_count": 11,
   "metadata": {},
   "outputs": [
    {
     "data": {
      "text/plain": [
       "array([[-0.05039761, -0.00940703,  0.03854019,  0.00064986,  0.00259853]])"
      ]
     },
     "execution_count": 11,
     "metadata": {},
     "output_type": "execute_result"
    }
   ],
   "source": [
    "dist"
   ]
  },
  {
   "cell_type": "code",
   "execution_count": 12,
   "metadata": {},
   "outputs": [
    {
     "data": {
      "text/plain": [
       "array([[491.34073143,   0.        , 292.91190506],\n",
       "       [  0.        , 466.80074034, 483.69311262],\n",
       "       [  0.        ,   0.        ,   1.        ]])"
      ]
     },
     "execution_count": 12,
     "metadata": {},
     "output_type": "execute_result"
    }
   ],
   "source": [
    "mtx"
   ]
  },
  {
   "cell_type": "code",
   "execution_count": 2,
   "metadata": {},
   "outputs": [],
   "source": [
    "\n",
    "vs = VideoStream(src=0).start()\n",
    "while True:\n",
    "    frame = vs.read()\n",
    "    image = imutils.resize(frame, width = 1000)\n",
    "    cv2.imshow('test', image)\n",
    "    if cv2.waitKey(25) & 0xFF == ord('q'):\n",
    "        break\n",
    "\n",
    "    "
   ]
  },
  {
   "cell_type": "code",
   "execution_count": 3,
   "metadata": {},
   "outputs": [
    {
     "name": "stdout",
     "output_type": "stream",
     "text": [
      "press enter to take picture\n",
      "saved pic 26\n",
      "press enter to take picture\n",
      "saved pic 27\n",
      "press enter to take picture\n",
      "saved pic 28\n",
      "press enter to take picture\n",
      "saved pic 29\n",
      "press enter to take picture\n",
      "saved pic 30\n"
     ]
    }
   ],
   "source": [
    "vs = VideoStream(src=0).start()\n",
    "counter = 26\n",
    "for i in range(5):\n",
    "    input(\"press enter to take picture\")\n",
    "    frame = vs.read()\n",
    "    image = imutils.resize(frame, width = 1000)\n",
    "    cv2.imwrite(\"/Users/ivyli/149proj/calib1214/gb\" + str(counter) + \".jpg\", image)\n",
    "    print('saved pic ' + str(counter))\n",
    "    counter += 1"
   ]
  },
  {
   "cell_type": "code",
   "execution_count": 3,
   "metadata": {},
   "outputs": [
    {
     "data": {
      "text/plain": [
       "True"
      ]
     },
     "execution_count": 3,
     "metadata": {},
     "output_type": "execute_result"
    }
   ],
   "source": [
    "vs = VideoStream(src=0).start()\n",
    "frame = vs.read()\n",
    "image = imutils.resize(frame, width = 1000)\n",
    "cv2.imwrite(\"/Users/ivyli/149proj/sample33.jpg\", image)"
   ]
  },
  {
   "cell_type": "code",
   "execution_count": 10,
   "metadata": {},
   "outputs": [
    {
     "data": {
      "text/plain": [
       "True"
      ]
     },
     "execution_count": 10,
     "metadata": {},
     "output_type": "execute_result"
    }
   ],
   "source": [
    "mtx, dist = load_coefficients('calibration_aruco2.yml')\n",
    "original = cv2.imread('/Users/ivyli/149proj/sample33.jpg')\n",
    "dst = cv2.undistort(original, mtx, dist, None, None)\n",
    "cv2.imwrite('undist.jpg', dst)"
   ]
  },
  {
   "cell_type": "code",
   "execution_count": null,
   "metadata": {},
   "outputs": [],
   "source": []
  }
 ],
 "metadata": {
  "kernelspec": {
   "display_name": "Python 3",
   "language": "python",
   "name": "python3"
  },
  "language_info": {
   "codemirror_mode": {
    "name": "ipython",
    "version": 3
   },
   "file_extension": ".py",
   "mimetype": "text/x-python",
   "name": "python",
   "nbconvert_exporter": "python",
   "pygments_lexer": "ipython3",
   "version": "3.6.5"
  }
 },
 "nbformat": 4,
 "nbformat_minor": 5
}
