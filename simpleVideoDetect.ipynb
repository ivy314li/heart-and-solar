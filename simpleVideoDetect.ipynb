{
 "cells": [
  {
   "cell_type": "code",
   "execution_count": 2,
   "metadata": {},
   "outputs": [],
   "source": [
    "from imutils.video import VideoStream\n",
    "import argparse\n",
    "import imutils\n",
    "import time\n",
    "import cv2\n",
    "import sys\n",
    "import numpy as np\n",
    "import os\n",
    "import numpy as np\n",
    "import matplotlib.pyplot as plt\n",
    "import utils\n",
    "import statistics"
   ]
  },
  {
   "cell_type": "code",
   "execution_count": 8,
   "metadata": {},
   "outputs": [
    {
     "name": "stdout",
     "output_type": "stream",
     "text": [
      "Camera index available: 0\n",
      "Camera index available: 1\n"
     ]
    }
   ],
   "source": [
    "def camera_test():\n",
    "    \"\"\"used to locate all possible usb cameras on device\"\"\"\n",
    "    all_camera_idx_available = []\n",
    "\n",
    "    for camera_idx in range(0, 2):\n",
    "        cap = cv2.VideoCapture(camera_idx)\n",
    "        if cap.isOpened():\n",
    "            print(f'Camera index available: {camera_idx}')\n",
    "            all_camera_idx_available.append(camera_idx)\n",
    "            cap.release()\n",
    "            \n",
    "camera_test()"
   ]
  },
  {
   "cell_type": "code",
   "execution_count": 9,
   "metadata": {},
   "outputs": [],
   "source": [
    "# def calculate_possible_points(tvec_list, width, length):\n",
    "#     #for every corner, find the intersection\n",
    "#     corners =[(0, 0), (width, 0), (0, length), (width, length)]\n",
    "#     possible_points = []\n",
    "#     point_tvec = tvec_list[4]\n",
    "#     for i in range(4):\n",
    "#         for j in range(i+1, 4):\n",
    "#             x0, y0 = corners[i]\n",
    "#             r0 = np.linalg.norm(point_tvec-tvec_list[i])\n",
    "#             x1, y1 = corners[j]\n",
    "#             r1 = np.linalg.norm(point_tvec-tvec_list[j])\n",
    "#             returned = get_intersections(x0, y0, r0, x1, y1, r1)\n",
    "#             if returned != None:\n",
    "#                 point1, point2 = returned\n",
    "#                 possible_points.append([point1, point2])\n",
    "#     return possible_points\n",
    "\n",
    "def clean_points_and_vote1(width, length, box_size, possible_points):\n",
    "    block_width = width/box_size\n",
    "    block_length = length/box_size\n",
    "    possible_coords = [0]*box_size*box_size\n",
    "    max_votes = 0\n",
    "    max_vote_index = -1;\n",
    "    #x = math.floor(x/block_width)\n",
    "    #y = math.floor(y/block_length)\n",
    "    definite_points = []\n",
    "    sus_points = []\n",
    "    for pair in possible_points:\n",
    "        point1, point2 = pair\n",
    "    \n",
    "        if point1[0] > 0 and point1[1] > 0 and point2[0] > 0 and point2[1] > 0:\n",
    "            # both in bounds, sus\n",
    "            sus_points.append(pair)\n",
    "            continue\n",
    "        if point2[0] > 0 and point2[1] > 0 and (point1[0] < 0 or point1[1] < 0):\n",
    "            #2 in bounds, 1 not\n",
    "            definite_points.append(point2)\n",
    "            continue\n",
    "        if point1[0] > 0 and point1[1] > 0 and (point2[0] < 0 or point2[1] < 0):\n",
    "            #1 in bounds, 2 not\n",
    "            definite_points.append(point1)\n",
    "            continue\n",
    "        #if neither is in, then neither is possible\n",
    "        \n",
    "#     print('these are definite')\n",
    "#     print(definite_points)\n",
    "#     print('these are sus')\n",
    "#     for pair in sus_points:\n",
    "#         print(pair)\n",
    "#     print('these are the final ones')\n",
    "    if len(definite_points) > 0:\n",
    "        # filter by distance\n",
    "        xavg = 0\n",
    "        yavg = 0\n",
    "        for point in definite_points:\n",
    "            xavg += point[0]\n",
    "            yavg += point[1]\n",
    "        xavg = xavg/len(definite_points)\n",
    "        yavg = yavg/len(definite_points)\n",
    "        avgpt = [xavg, yavg]\n",
    "        \n",
    "        for pair in sus_points:\n",
    "            dist0 = utils.find_distance(pair[0], avgpt)\n",
    "            dist1 = utils.find_distance(pair[1], avgpt)\n",
    "            if dist0 < dist1:\n",
    "                definite_points.append(pair[0])\n",
    "            else:\n",
    "                definite_points.append(pair[1])\n",
    "        \n",
    "        \n",
    "        #final average\n",
    "        xavg = 0\n",
    "        yavg = 0\n",
    "        for point in definite_points:\n",
    "            xavg += point[0]\n",
    "            yavg += point[1]\n",
    "        xavg = xavg/len(definite_points)\n",
    "        yavg = yavg/len(definite_points)\n",
    "        print(definite_points)\n",
    "        return 0, xavg, yavg\n",
    "    else:\n",
    "         # otherwise just take all of them \n",
    "        print('fuck')\n",
    "        return 0, 0 ,0\n",
    "    \n",
    "#     for x, y in possible_points:\n",
    "#         if x < 0 or y < 0:\n",
    "#             continue \n",
    "        \n",
    "#         if x > box_size-1 or y > box_size-1:\n",
    "#             continue\n",
    "#         # debug print\n",
    "#         # print(str(x) + ' ' + str(y))\n",
    "#         possible_coords[ y * box_size + x] += 1\n",
    "#         if possible_coords[ y * box_size + x] > max_votes:\n",
    "#             max_votes = possible_coords[ y * box_size + x]\n",
    "#             max_vote_index =  y * box_size + x\n",
    "#     x_avg = []\n",
    "#     y_avg = []\n",
    "    \n",
    "#     for x, y in possible_points:\n",
    "#         if x < 0 or y < 0:\n",
    "#             continue \n",
    "#         roundx = math.floor(x/block_width)\n",
    "#         roundy = math.floor(y/block_length)\n",
    "#         if roundx > box_size-1 or roundy > box_size-1:\n",
    "#             continue\n",
    "# #         if roundy * box_size + roundx == max_vote_index:\n",
    "# #             x_avg.append(x)\n",
    "# #             y_avg.append(y)\n",
    "#         x_avg.append(x)\n",
    "#         y_avg.append(y)\n",
    "#    return 0, sum(x_avg)/len(x_avg), sum(y_avg)/len(y_avg)\n",
    "\n",
    "\n",
    "def clean_points_and_vote2(width, length, box_size, possible_points):\n",
    "    block_width = width/box_size\n",
    "    block_length = length/box_size\n",
    "    possible_coords = [0]*box_size*box_size\n",
    "    max_votes = 0\n",
    "    max_vote_index = -1;\n",
    "    #x = math.floor(x/block_width)\n",
    "    #y = math.floor(y/block_length)\n",
    "    midpoints = []\n",
    "    for pair in possible_points:\n",
    "        point1, point2 = pair\n",
    "        midpoint = [(point1[0] + point2[0])/2, (point1[1] + point2[1])/2]\n",
    "        midpoints.append(midpoint)\n",
    "    x_mids = [point[0] for point in midpoints]\n",
    "    y_mids = [point[1] for point in midpoints]\n",
    "    return 0, statistics.median(x_mids), statistics.median(y_mids)\n",
    "\n",
    "def clean_points_and_vote3(width, length, box_size, possible_points):\n",
    "    x_mids = [point[0] for point in possible_points]\n",
    "    y_mids = [point[1] for point in possible_points]\n",
    "    return 0, statistics.median(x_mids), statistics.median(y_mids)"
   ]
  },
  {
   "cell_type": "code",
   "execution_count": 10,
   "metadata": {},
   "outputs": [],
   "source": [
    "def calculate_possible_points(tvec_list, width, length):\n",
    "    #for every corner, find the intersection\n",
    "    corners =[(0, 0), (width, 0), (0, length), (width, length)]\n",
    "    possible_points = []\n",
    "    point_tvec = tvec_list[4]\n",
    "    for i in range(4):\n",
    "        for j in range(i+1, 4):\n",
    "            x0, y0 = corners[i]\n",
    "            r0 = np.linalg.norm(point_tvec-tvec_list[i])\n",
    "            x1, y1 = corners[j]\n",
    "            r1 = np.linalg.norm(point_tvec-tvec_list[j])\n",
    "            returned = utils.get_intersections(x0, y0, r0, x1, y1, r1)\n",
    "            if returned != None:\n",
    "                point1, point2 = returned\n",
    "                possible_points.append([point1, point2])\n",
    "    return possible_points"
   ]
  },
  {
   "cell_type": "code",
   "execution_count": 11,
   "metadata": {},
   "outputs": [
    {
     "name": "stdout",
     "output_type": "stream",
     "text": [
      "[ 2.68227047 -0.04511594 -0.2959517 ]\n",
      "[ 3.03618136 -0.33711612 -0.1659986 ]\n",
      "[ 3.12941073  0.13430033 -0.11131242]\n",
      "[-1.88664642  0.19329612  0.9771626 ]\n",
      "[ 2.18475899 -2.11206029 -0.01834332]\n",
      "[[0.10623561676842085, 0.17375752245346385], [0.20335680464966668, 0.011121730171608987], [0.06749821037179216, 0.10208032233540473]]\n",
      "0.34206319850758427\n",
      "0.36523854843411035\n",
      "location 1: 0.33072014186423987 0.23570313937898493\n",
      "location 2: 0.2720641224054308 0.2580764962436315\n",
      "location 3: 0.22855490609394635 0.3398519424829649\n",
      "location 0: 0.33072014186423987 0.23570313937898493\n"
     ]
    },
    {
     "data": {
      "image/png": "[encoded data removed]",
      "text/plain": [
       "<Figure size 432x288 with 1 Axes>"
      ]
     },
     "metadata": {
      "needs_background": "light"
     },
     "output_type": "display_data"
    }
   ],
   "source": [
    "vs = VideoStream(src=0).start()\n",
    "time.sleep(1.0)\n",
    "frame = vs.read()\n",
    "arucoDict = cv2.aruco.DICT_4X4_50\n",
    "mtx, dist = utils.load_coefficients('calibration_aruco1.yml')\n",
    "\n",
    "image = imutils.resize(frame, width = 1000)\n",
    "#(corners, ids, rejected) = cv2.aruco.detectMarkers(image, arucoDict, parameters=arucoParams)\n",
    "output, rvecs, tvecs= utils.pose_estimation(image, arucoDict, mtx, dist)\n",
    "\n",
    "#cv2.destroyAllWindows()\n",
    "tvec_list, rvec_list = utils.clean_tvec_rvec(tvecs, rvecs)\n",
    "for rvec in rvec_list:\n",
    "    print(rvec)\n",
    "if len(tvec_list) != 5:\n",
    "    print(\"[ERROR] not all markers were detected, trying again later\")\n",
    "width, length, a, b, c, d = utils.get_width_length(tvec_list)\n",
    "possible_points = calculate_possible_points(tvec_list, width, length)\n",
    "pp = utils.calculate_possible_points(tvec_list, width, length)\n",
    "#print(possible_points)\n",
    "propx = .9/width\n",
    "propy = .9/length\n",
    "\n",
    "prediction, x, y = clean_points_and_vote1(width, length, 3, possible_points)\n",
    "#angle = utils.diff_y_angle(rvec_list)\n",
    "\n",
    "prop = (propx+propy)/2\n",
    "print(width)\n",
    "print(length)\n",
    "print('location 1: ' + str(propx*x) + ' ' + str(propy*y))\n",
    "\n",
    "\n",
    "prediction, x, y = clean_points_and_vote2(width, length, 3, possible_points)\n",
    "print('location 2: ' + str(propx*x) + ' ' + str(propy*y))\n",
    "\n",
    "prediction, x, y = clean_points_and_vote3(width, length, 3, pp)\n",
    "print('location 3: ' + str(propx*x) + ' ' + str(propy*y))\n",
    "\n",
    "prediction, x, y = utils.clean_points_and_vote(width, length, 3, pp)\n",
    "print('location 0: ' + str(propx*x) + ' ' + str(propy*y))\n",
    "#cv2.imshow('test', output)\n",
    "#cv2.waitKey(0)\n",
    "vs.stop()\n",
    "\n",
    "ppx = [point[0] for point in pp]\n",
    "ppy = [point[1] for point in pp]\n",
    "plt.scatter(ppx, ppy)\n",
    "plt.show()"
   ]
  },
  {
   "cell_type": "code",
   "execution_count": 14,
   "metadata": {},
   "outputs": [
    {
     "data": {
      "text/plain": [
       "-87.91332224718037"
      ]
     },
     "execution_count": 14,
     "metadata": {},
     "output_type": "execute_result"
    }
   ],
   "source": [
    "import numpy as np\n",
    "import math\n",
    "import cv2\n",
    "#import\n",
    "#import tf.transformations\n",
    "#from geometry_msgs.msg import PoseStamped\n",
    "\n",
    "rvec = rvec_list[4]\n",
    "tvec = tvecs[4]\n",
    "def y_angle(rvec):\n",
    "    rotation_matrix, _ = cv2.Rodrigues(rvec)\n",
    "    def rotationMatrixToEulerAngles(R) :\n",
    "        sy = math.sqrt(R[0,0] * R[0,0] +  R[1,0] * R[1,0])\n",
    "        singular = sy < 1e-6\n",
    "        if not singular :\n",
    "            x = math.atan2(R[2,1] , R[2,2])\n",
    "            y = math.atan2(-R[2,0], sy)\n",
    "            z = math.atan2(R[1,0], R[0,0])\n",
    "        else :\n",
    "            x = math.atan2(-R[1,2], R[1,1])\n",
    "            y = math.atan2(-R[2,0], sy)\n",
    "            z = 0\n",
    "        return np.array([x, y, z])\n",
    "\n",
    "    euler = rotationMatrixToEulerAngles(rotation_matrix)\n",
    "    euler_degrees = [180*item/3.14159 for item in euler]\n",
    "    return euler_degrees[2]\n",
    "y_angle(rvec)"
   ]
  },
  {
   "cell_type": "code",
   "execution_count": 10,
   "metadata": {},
   "outputs": [
    {
     "name": "stdout",
     "output_type": "stream",
     "text": [
      "[[0.16864386516223126, -0.18365575612277849], [0.16864386516223126, 0.18365575612277849]]\n",
      "[[0.16319140047659383, 0.18851725869101293], [-0.16319140047659383, 0.18851725869101293]]\n",
      "[[0.19965511668638508, 0.14935871047525912], [0.07888749192140748, 0.23653108386052812]]\n",
      "[[0.16125750317755283, 0.18318564182647495], [0.007598177097622935, 0.0722714115165241]]\n",
      "[[0.2421792541900783, 0.17174322289958552], [0.11107019619735363, 0.17174322289958552]]\n",
      "[[0.1454053048066435, 0.15171785409089267], [0.1454053048066435, 0.33766995785129217]]\n"
     ]
    }
   ],
   "source": [
    "for pair in possible_points:\n",
    "    print(pair)"
   ]
  },
  {
   "cell_type": "code",
   "execution_count": null,
   "metadata": {
    "scrolled": true
   },
   "outputs": [
    {
     "name": "stdout",
     "output_type": "stream",
     "text": [
      "[INFO] starting video stream...\n",
      "[[0.07750385583750022, -0.2756393603293838], [0.07750385583750022, 0.2756393603293838], [0.13860487707368427, 0.25054459220637904], [-0.13860487707368427, 0.25054459220637904], [0.1777395607213831, 0.3405014059275294], [0.00453799312615269, 0.18506117462048519], [0.49545470688510435, 0.331399268230626], [0.1584904549463682, 0.331399268230626], [0.1675973697048424, 0.3005338083923538], [0.1675973697048424, 0.4281342217445441]]\n",
      "0.3269725809157363\n",
      "0.3643340150684489\n",
      "location 0.3323554421815422 0.6931879292373115\n",
      "predicted box: 7\n",
      "angle: -143.09618581614325\n"
     ]
    }
   ],
   "source": [
    "arucoDict = cv2.aruco.DICT_4X4_50\n",
    "mtx, dist = utils.load_coefficients('calibration_aruco1.yml')\n",
    "\n",
    "print(\"[INFO] starting video stream...\")\n",
    "vs = VideoStream(src=0).start()\n",
    "time.sleep(2.0)\n",
    "while True:\n",
    "    time.sleep(1.0)\n",
    "    frame = vs.read()\n",
    "\n",
    "    image = imutils.resize(frame, width = 1000)\n",
    "    #(corners, ids, rejected) = cv2.aruco.detectMarkers(image, arucoDict, parameters=arucoParams)\n",
    "    output, rvecs, tvecs= utils.pose_estimation(image, arucoDict, mtx, dist)\n",
    "    \n",
    "    #cv2.destroyAllWindows()\n",
    "    tvec_list, rvec_list = utils.clean_tvec_rvec(tvecs, rvecs)\n",
    "    if len(tvec_list) != 5:\n",
    "        print(\"[ERROR] not all markers were detected, trying again later\")\n",
    "        continue\n",
    "    width, length, a, b, c, d = utils.get_width_length(tvec_list)\n",
    "    possible_points = utils.calculate_possible_points(tvec_list, width, length)\n",
    "    print(possible_points)\n",
    "    prediction, x, y = utils.clean_points_and_vote(width, length, 3, possible_points)\n",
    "    #prediction, x, y = clean_points_and_vote1=(width, length, 3, possible_points)\n",
    "    angle = utils.diff_y_angle(rvec_list)\n",
    "    #prop = .75/width\n",
    "    propx = .9/width\n",
    "    propy = .9/length\n",
    "    print(width)\n",
    "    print(length)\n",
    "    print('location ' + str(propx*x) + ' ' + str(propy*y))\n",
    "    print('predicted box: ' + str(prediction))\n",
    "    print('angle: ' + str(angle))\n",
    "    cv2.imshow('test', output)\n",
    "    cv2.waitKey(0)\n",
    "    input('press enter to continue')\n",
    "    \n",
    "cv2.destroyAllWindows()\n",
    "vs.stop()"
   ]
  },
  {
   "cell_type": "code",
   "execution_count": 6,
   "metadata": {},
   "outputs": [
    {
     "data": {
      "image/png": "[encoded data removed]",
      "text/plain": [
       "<Figure size 432x288 with 1 Axes>"
      ]
     },
     "metadata": {
      "needs_background": "light"
     },
     "output_type": "display_data"
    }
   ],
   "source": [
    "\n",
    "\n",
    "import numpy as np\n",
    "import matplotlib.pyplot as plt\n",
    "\n",
    "ppx = [point[0] for point in pp]\n",
    "ppy = [point[1] for point in pp]\n",
    "plt.scatter(ppx, ppy)\n",
    "plt.show()\n",
    "\n"
   ]
  },
  {
   "cell_type": "code",
   "execution_count": 4,
   "metadata": {},
   "outputs": [],
   "source": [
    "from imutils.video import VideoStream\n",
    "import argparse\n",
    "import imutils\n",
    "import time\n",
    "import cv2\n",
    "import sys\n",
    "import numpy as np\n",
    "import os\n",
    "import numpy as np\n",
    "import matplotlib.pyplot as plt\n",
    "import utils\n",
    "import statistics\n",
    "\n",
    "    \n",
    "\n",
    "def find_location(tags, distances):\n",
    "    A = []\n",
    "    b = []\n",
    "    for i in range(1, len(tags)):\n",
    "        #print(i)\n",
    "        A.append([2 * (tags[0][0] - tags[i][0]), 2 * (tags[0][1] - tags[i][1])])\n",
    "        b.append(np.linalg.norm(tags[0]) ** 2 - np.linalg.norm(tags[i]) ** 2 - distances[0] ** 2 + distances[i] ** 2)\n",
    "    return np.linalg.lstsq(A, b)[0]\n",
    "    \n",
    "def calculate_location(tvec_list, width, length):\n",
    "    #for every corner, find the intersection\n",
    "    point_tvec = tvec_list[4]\n",
    "    corners =[(0, length), (width, length), (0, 0), (width, 0)]\n",
    "    distances = []\n",
    "    for i in range(len(corners)):\n",
    "        print(i)\n",
    "        distance = np.linalg.norm(point_tvec-tvec_list[i])\n",
    "        print(distance)\n",
    "        distances.append(distance)\n",
    "    return find_location(corners, distances)\n",
    "\n"
   ]
  },
  {
   "cell_type": "code",
   "execution_count": 5,
   "metadata": {},
   "outputs": [
    {
     "name": "stdout",
     "output_type": "stream",
     "text": [
      "[ 2.68227047 -0.04511594 -0.2959517 ]\n",
      "[ 3.03618136 -0.33711612 -0.1659986 ]\n",
      "[ 3.12941073  0.13430033 -0.11131242]\n",
      "[-1.88664642  0.19329612  0.9771626 ]\n",
      "[ 2.18475899 -2.11206029 -0.01834332]\n",
      "0.34206319850758427\n",
      "0.36523854843411035\n",
      "0\n",
      "0.2036607052902763\n",
      "1\n",
      "0.2929271665757681\n",
      "2\n",
      "0.15982680182360426\n",
      "3\n",
      "0.3803132717555688\n",
      "x\n",
      "0.06980719438931733\n",
      "y\n",
      "0.19492434044230494\n"
     ]
    },
    {
     "name": "stderr",
     "output_type": "stream",
     "text": [
      "/var/folders/j_/rmvg8zw52690s8m6b80w4jn80000gn/T/ipykernel_22568/2254825388.py:23: FutureWarning: `rcond` parameter will change to the default of machine precision times ``max(M, N)`` where M and N are the input matrix dimensions.\n",
      "To use the future default and silence this warning we advise to pass `rcond=None`, to keep using the old, explicitly pass `rcond=-1`.\n",
      "  return np.linalg.lstsq(A, b)[0]\n"
     ]
    }
   ],
   "source": [
    "vs = VideoStream(src=0).start()\n",
    "time.sleep(1.0)\n",
    "frame = vs.read()\n",
    "arucoDict = cv2.aruco.DICT_4X4_50\n",
    "mtx, dist = utils.load_coefficients('calibration_aruco1.yml')\n",
    "\n",
    "image = imutils.resize(frame, width = 1000)\n",
    "#(corners, ids, rejected) = cv2.aruco.detectMarkers(image, arucoDict, parameters=arucoParams)\n",
    "output, rvecs, tvecs= utils.pose_estimation(image, arucoDict, mtx, dist)\n",
    "\n",
    "#cv2.destroyAllWindows()\n",
    "tvec_list, rvec_list = utils.clean_tvec_rvec(tvecs, rvecs)\n",
    "for rvec in rvec_list:\n",
    "    print(rvec)\n",
    "if len(tvec_list) != 5:\n",
    "    print(\"[ERROR] not all markers were detected, trying again later\")\n",
    "width, length, a, b, c, d = utils.get_width_length(tvec_list)\n",
    "\n",
    "print(width)\n",
    "print(length)\n",
    "propx = .9/width\n",
    "propy = .9/length\n",
    "pp = calculate_location(tvec_list, width, length)\n",
    "print('x')\n",
    "print(pp[0])\n",
    "print('y')\n",
    "print(pp[1])\n",
    "vs.stop()"
   ]
  },
  {
   "cell_type": "code",
   "execution_count": 15,
   "metadata": {},
   "outputs": [
    {
     "name": "stdout",
     "output_type": "stream",
     "text": [
      "1\n",
      "2\n",
      "3\n"
     ]
    },
    {
     "name": "stderr",
     "output_type": "stream",
     "text": [
      "/var/folders/j_/rmvg8zw52690s8m6b80w4jn80000gn/T/ipykernel_21494/1934276266.py:8: FutureWarning: `rcond` parameter will change to the default of machine precision times ``max(M, N)`` where M and N are the input matrix dimensions.\n",
      "To use the future default and silence this warning we advise to pass `rcond=None`, to keep using the old, explicitly pass `rcond=-1`.\n",
      "  return np.linalg.lstsq(A, b)[0]\n"
     ]
    },
    {
     "data": {
      "text/plain": [
       "array([0.58166667, 0.58166667])"
      ]
     },
     "execution_count": 15,
     "metadata": {},
     "output_type": "execute_result"
    }
   ],
   "source": [
    "\n",
    "def find_location(tags, distances):\n",
    "    A = []\n",
    "    b = []\n",
    "    for i in range(1, len(tags)):\n",
    "        #print(i)\n",
    "        A.append([2 * (tags[0][0] - tags[i][0]), 2 * (tags[0][1] - tags[i][1])])\n",
    "        b.append(np.linalg.norm(tags[0]) ** 2 - np.linalg.norm(tags[i]) ** 2 - distances[0] ** 2 + distances[i] ** 2)\n",
    "    return np.linalg.lstsq(A, b)[0]\n",
    "        \n",
    "find_location([(0,0),(0,1),(1,0),(1,1)], [0.7, 0.7, 0.7, 0])"
   ]
  },
  {
   "cell_type": "code",
   "execution_count": null,
   "metadata": {},
   "outputs": [],
   "source": []
  }
 ],
 "metadata": {
  "kernelspec": {
   "display_name": "Python 3",
   "language": "python",
   "name": "python3"
  },
  "language_info": {
   "codemirror_mode": {
    "name": "ipython",
    "version": 3
   },
   "file_extension": ".py",
   "mimetype": "text/x-python",
   "name": "python",
   "nbconvert_exporter": "python",
   "pygments_lexer": "ipython3",
   "version": "3.6.5"
  }
 },
 "nbformat": 4,
 "nbformat_minor": 5
}
