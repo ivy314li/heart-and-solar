{
 "cells": [
  {
   "cell_type": "code",
   "execution_count": 41,
   "id": "a1f7e3b4",
   "metadata": {},
   "outputs": [],
   "source": [
    "from imutils.video import VideoStream\n",
    "import argparse\n",
    "import imutils\n",
    "import time\n",
    "import cv2\n",
    "import sys\n",
    "import numpy as np\n",
    "import os"
   ]
  },
  {
   "cell_type": "code",
   "execution_count": null,
   "id": "5ed334cb",
   "metadata": {},
   "outputs": [],
   "source": []
  },
  {
   "cell_type": "code",
   "execution_count": 32,
   "id": "93486cce",
   "metadata": {},
   "outputs": [
    {
     "name": "stdout",
     "output_type": "stream",
     "text": [
      "Camera index available: 0\n"
     ]
    }
   ],
   "source": [
    "import cv2\n",
    "import numpy as np\n",
    "\n",
    "all_camera_idx_available = []\n",
    "\n",
    "for camera_idx in range(-100, 900):\n",
    "    cap = cv2.VideoCapture(camera_idx)\n",
    "    if cap.isOpened():\n",
    "        print(f'Camera index available: {camera_idx}')\n",
    "        all_camera_idx_available.append(camera_idx)\n",
    "        cap.release()"
   ]
  },
  {
   "cell_type": "code",
   "execution_count": 25,
   "id": "ed22946f",
   "metadata": {},
   "outputs": [],
   "source": [
    "vs.stop()"
   ]
  },
  {
   "cell_type": "code",
   "execution_count": 45,
   "id": "3ceb734b",
   "metadata": {},
   "outputs": [
    {
     "name": "stdout",
     "output_type": "stream",
     "text": [
      "[INFO] starting video stream...\n"
     ]
    }
   ],
   "source": [
    "arucoDict = cv2.aruco.Dictionary_get(cv2.aruco.DICT_4X4_50)\n",
    "arucoParams = cv2.aruco.DetectorParameters_create()\n",
    "print(\"[INFO] starting video stream...\")\n",
    "vs = VideoStream(src=0).start()\n",
    "time.sleep(2.0)"
   ]
  },
  {
   "cell_type": "code",
   "execution_count": 46,
   "id": "3ef76a0a",
   "metadata": {},
   "outputs": [
    {
     "name": "stdout",
     "output_type": "stream",
     "text": [
      "[INFO] no valid input...\n",
      "[INFO] no valid input...\n",
      "[INFO] no valid input...\n",
      "[INFO] no valid input...\n",
      "[INFO] no valid input...\n",
      "[INFO] no valid input...\n",
      "[INFO] no valid input...\n",
      "[INFO] no valid input...\n",
      "[INFO] no valid input...\n",
      "[INFO] no valid input...\n",
      "[INFO] no valid input...\n",
      "[INFO] no valid input...\n"
     ]
    },
    {
     "ename": "KeyboardInterrupt",
     "evalue": "",
     "output_type": "error",
     "traceback": [
      "\u001b[0;31m---------------------------------------------------------------------------\u001b[0m",
      "\u001b[0;31mKeyboardInterrupt\u001b[0m                         Traceback (most recent call last)",
      "\u001b[0;32m<ipython-input-46-3f4680018f0e>\u001b[0m in \u001b[0;36m<module>\u001b[0;34m\u001b[0m\n\u001b[1;32m      2\u001b[0m     \u001b[0mframe\u001b[0m \u001b[0;34m=\u001b[0m \u001b[0mvs\u001b[0m\u001b[0;34m.\u001b[0m\u001b[0mread\u001b[0m\u001b[0;34m(\u001b[0m\u001b[0;34m)\u001b[0m\u001b[0;34m\u001b[0m\u001b[0m\n\u001b[1;32m      3\u001b[0m     \u001b[0;32mif\u001b[0m \u001b[0mframe\u001b[0m \u001b[0;34m==\u001b[0m \u001b[0;32mNone\u001b[0m\u001b[0;34m:\u001b[0m\u001b[0;34m\u001b[0m\u001b[0m\n\u001b[0;32m----> 4\u001b[0;31m         \u001b[0mtime\u001b[0m\u001b[0;34m.\u001b[0m\u001b[0msleep\u001b[0m\u001b[0;34m(\u001b[0m\u001b[0;36m1.0\u001b[0m\u001b[0;34m)\u001b[0m\u001b[0;34m\u001b[0m\u001b[0m\n\u001b[0m\u001b[1;32m      5\u001b[0m         \u001b[0mprint\u001b[0m\u001b[0;34m(\u001b[0m\u001b[0;34m\"[INFO] no valid input...\"\u001b[0m\u001b[0;34m)\u001b[0m\u001b[0;34m\u001b[0m\u001b[0m\n\u001b[1;32m      6\u001b[0m         \u001b[0;32mcontinue\u001b[0m\u001b[0;34m\u001b[0m\u001b[0m\n",
      "\u001b[0;31mKeyboardInterrupt\u001b[0m: "
     ]
    }
   ],
   "source": [
    "while True:\n",
    "    frame = vs.read()\n",
    "    if frame == None:\n",
    "        time.sleep(1.0)\n",
    "        print(\"[INFO] no valid input...\")\n",
    "        continue\n",
    "    image = imutils.resize(frame, width = 1000)\n",
    "    (corners, ids, rejected) = cv2.aruco.detectMarkers(image, arucoDict, parameters=arucoParams)\n",
    "    if len(corners) > 0:\n",
    "        # flatten the ArUco IDs list\n",
    "        ids = ids.flatten()\n",
    "        # loop over the detected ArUCo corners\n",
    "        for (markerCorner, markerID) in zip(corners, ids):\n",
    "            # extract the marker corners (which are always returned in\n",
    "            # top-left, top-right, bottom-right, and bottom-left order)\n",
    "            #print(markerCorner)\n",
    "            print(markerCorner)\n",
    "            #corners = markerCorner.reshape((4, 1))\n",
    "            (topLeft, topRight, bottomRight, bottomLeft) = markerCorner[0]\n",
    "            # convert each of the (x, y)-coordinate pairs to integers\n",
    "            topRight = (int(topRight[0]), int(topRight[1]))\n",
    "            bottomRight = (int(bottomRight[0]), int(bottomRight[1]))\n",
    "            bottomLeft = (int(bottomLeft[0]), int(bottomLeft[1]))\n",
    "            topLeft = (int(topLeft[0]), int(topLeft[1]))\n",
    "\n",
    "            # draw the bounding box of the ArUCo detection\n",
    "            cv2.line(image, topLeft, topRight, (0, 255, 0), 2)\n",
    "            cv2.line(image, topRight, bottomRight, (0, 255, 0), 2)\n",
    "            cv2.line(image, bottomRight, bottomLeft, (0, 255, 0), 2)\n",
    "            cv2.line(image, bottomLeft, topLeft, (0, 255, 0), 2)\n",
    "            # compute and draw the center (x, y)-coordinates of the ArUco\n",
    "            # marker\n",
    "            cX = int((topLeft[0] + bottomRight[0]) / 2.0)\n",
    "            cY = int((topLeft[1] + bottomRight[1]) / 2.0)\n",
    "            cv2.circle(image, (cX, cY), 4, (0, 0, 255), -1)\n",
    "            # draw the ArUco marker ID on the image\n",
    "            cv2.putText(image, str(markerID),\n",
    "                (topLeft[0], topLeft[1] - 15), cv2.FONT_HERSHEY_SIMPLEX,\n",
    "                0.5, (0, 255, 0), 2)\n",
    "            print(\"[INFO] ArUco marker ID: {}\".format(markerID))\n",
    "    # show the output image\n",
    "    cv2.imshow(\"Image\", image)\n",
    "    key = cv2.waitKey(1) & 0xFF\n",
    "    \n",
    "    if key == ord(\"q\"):\n",
    "        break\n",
    "cv2.destroyAllWindows()\n",
    "vs.stop()"
   ]
  },
  {
   "cell_type": "code",
   "execution_count": null,
   "id": "d702c43a",
   "metadata": {},
   "outputs": [],
   "source": []
  }
 ],
 "metadata": {
  "kernelspec": {
   "display_name": "Python 3",
   "language": "python",
   "name": "python3"
  },
  "language_info": {
   "codemirror_mode": {
    "name": "ipython",
    "version": 3
   },
   "file_extension": ".py",
   "mimetype": "text/x-python",
   "name": "python",
   "nbconvert_exporter": "python",
   "pygments_lexer": "ipython3",
   "version": "3.6.5"
  }
 },
 "nbformat": 4,
 "nbformat_minor": 5
}
