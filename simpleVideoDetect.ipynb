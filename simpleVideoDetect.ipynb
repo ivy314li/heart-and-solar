{
 "cells": [
  {
   "cell_type": "code",
   "execution_count": 1,
   "id": "a1f7e3b4",
   "metadata": {},
   "outputs": [],
   "source": [
    "from imutils.video import VideoStream\n",
    "import argparse\n",
    "import imutils\n",
    "import time\n",
    "import cv2\n",
    "import sys\n",
    "import numpy as np\n",
    "import os\n",
    "import utils"
   ]
  },
  {
   "cell_type": "code",
   "execution_count": 2,
   "id": "93486cce",
   "metadata": {},
   "outputs": [],
   "source": [
    "def camera_test():\n",
    "    \"\"\"used to locate all possible usb cameras on device\"\"\"\n",
    "    all_camera_idx_available = []\n",
    "\n",
    "    for camera_idx in range(-100, 900):\n",
    "        cap = cv2.VideoCapture(camera_idx)\n",
    "        if cap.isOpened():\n",
    "            print(f'Camera index available: {camera_idx}')\n",
    "            all_camera_idx_available.append(camera_idx)\n",
    "            cap.release()\n",
    "        "
   ]
  },
  {
   "cell_type": "code",
   "execution_count": 3,
   "id": "ed22946f",
   "metadata": {},
   "outputs": [
    {
     "name": "stdout",
     "output_type": "stream",
     "text": [
      "Camera index available: 0\n",
      "Camera index available: 1\n"
     ]
    }
   ],
   "source": [
    "camera_test()"
   ]
  },
  {
   "cell_type": "code",
   "execution_count": null,
   "id": "3ef76a0a",
   "metadata": {},
   "outputs": [
    {
     "name": "stdout",
     "output_type": "stream",
     "text": [
      "[INFO] starting video stream...\n",
      "0.21412804657750334\n",
      "0.2356036476649192\n",
      "location 0.4195628488651777 0.4706910860897537\n",
      "predicted box: 8\n",
      "angle: -123.96197164148386\n",
      "0.21381541826269598\n",
      "0.23817722182568768\n",
      "location 0.43672231929545263 0.5627184989877272\n",
      "predicted box: 8\n",
      "angle: -125.16079109457247\n",
      "0.21694220199154074\n",
      "0.23703184282501738\n",
      "location 0.41559462011791054 0.5984655198903986\n",
      "predicted box: 7\n",
      "angle: -141.1156036160642\n",
      "0.21723753450341377\n",
      "0.23696570519263102\n",
      "location 0.39572290792366394 0.5607351963238969\n",
      "predicted box: 7\n",
      "angle: -102.5600418898492\n",
      "0.21381541826269598\n",
      "0.23817722182568768\n",
      "location 0.24854084755687533 0.5484433178506568\n",
      "predicted box: 6\n",
      "angle: 78.93750333575173\n",
      "0.21694220199154074\n",
      "0.23703184282501738\n",
      "location 0.39762163940319584 0.27748359394784833\n",
      "predicted box: 1\n",
      "angle: 1.2771583409277205\n",
      "0.21585885825028361\n",
      "0.23626264589958873\n",
      "location 0.39839781669243846 0.27634350988325707\n",
      "predicted box: 2\n",
      "angle: -0.7466157619664239\n",
      "0.2155635257384106\n",
      "0.23630257135413574\n",
      "location 0.4540588769707166 0.29261941123019125\n",
      "predicted box: 2\n",
      "angle: 8.36064632602398\n",
      "0.211313405914981\n",
      "0.23699084814296445\n",
      "location 0.42445632294873703 0.27070079483335036\n",
      "predicted box: 2\n",
      "angle: 4.927960444148688\n"
     ]
    }
   ],
   "source": [
    "arucoDict = cv2.aruco.DICT_4X4_50\n",
    "mtx, dist = utils.load_coefficients('calibration_aruco1.yml')\n",
    "\n",
    "print(\"[INFO] starting video stream...\")\n",
    "vs = VideoStream(src=0).start()\n",
    "time.sleep(2.0)\n",
    "while True:\n",
    "    time.sleep(1.0)\n",
    "    frame = vs.read()\n",
    "\n",
    "    image = imutils.resize(frame, width = 1000)\n",
    "    #(corners, ids, rejected) = cv2.aruco.detectMarkers(image, arucoDict, parameters=arucoParams)\n",
    "    output, rvecs, tvecs= utils.pose_estimation(image, arucoDict, mtx, dist)\n",
    "    \n",
    "    #cv2.destroyAllWindows()\n",
    "    tvec_list, rvec_list = utils.clean_tvec_rvec(tvecs, rvecs)\n",
    "    if len(tvec_list) != 5:\n",
    "        print(\"[ERROR] not all markers were detected, trying again later\")\n",
    "        continue\n",
    "    width, length = utils.get_width_length(tvec_list)\n",
    "    possible_points = utils.calculate_possible_points(tvec_list, width, length)\n",
    "    #print(possible_points)\n",
    "    prediction, x, y = utils.clean_points_and_vote(width, length, 3, possible_points)\n",
    "    angle = utils.diff_y_angle(rvec_list)\n",
    "    prop = .75/width\n",
    "    print(width)\n",
    "    print(length)\n",
    "    print('location ' + str(prop*x) + ' ' + str(prop*y))\n",
    "    print('predicted box: ' + str(prediction))\n",
    "    print('angle: ' + str(angle))\n",
    "    cv2.imshow('test', output)\n",
    "    cv2.waitKey(0)\n",
    "    \n",
    "    \n",
    "cv2.destroyAllWindows()\n",
    "vs.stop()"
   ]
  },
  {
   "cell_type": "code",
   "execution_count": null,
   "id": "d702c43a",
   "metadata": {},
   "outputs": [],
   "source": []
  },
  {
   "cell_type": "code",
   "execution_count": null,
   "id": "1d12ddcd",
   "metadata": {},
   "outputs": [],
   "source": []
  }
 ],
 "metadata": {
  "kernelspec": {
   "display_name": "Python 3",
   "language": "python",
   "name": "python3"
  },
  "language_info": {
   "codemirror_mode": {
    "name": "ipython",
    "version": 3
   },
   "file_extension": ".py",
   "mimetype": "text/x-python",
   "name": "python",
   "nbconvert_exporter": "python",
   "pygments_lexer": "ipython3",
   "version": "3.6.5"
  }
 },
 "nbformat": 4,
 "nbformat_minor": 5
}
